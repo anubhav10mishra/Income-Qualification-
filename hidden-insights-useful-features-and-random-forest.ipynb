{
 "cells": [
  {
   "cell_type": "code",
   "execution_count": 1,
   "id": "small-cooking",
   "metadata": {
    "_cell_guid": "b1076dfc-b9ad-4769-8c92-a6c4dae69d19",
    "_uuid": "8f2839f25d086af736a60e9eeb907d3b93b6e0e5",
    "execution": {
     "iopub.execute_input": "2021-06-22T20:59:48.830468Z",
     "iopub.status.busy": "2021-06-22T20:59:48.829194Z",
     "iopub.status.idle": "2021-06-22T20:59:48.841964Z",
     "shell.execute_reply": "2021-06-22T20:59:48.842546Z",
     "shell.execute_reply.started": "2021-06-22T20:45:25.421464Z"
    },
    "papermill": {
     "duration": 0.10095,
     "end_time": "2021-06-22T20:59:48.842873",
     "exception": false,
     "start_time": "2021-06-22T20:59:48.741923",
     "status": "completed"
    },
    "tags": []
   },
   "outputs": [
    {
     "name": "stdout",
     "output_type": "stream",
     "text": [
      "/kaggle/input/costa-rican-household-poverty-prediction/sample_submission.csv\n",
      "/kaggle/input/costa-rican-household-poverty-prediction/codebook.csv\n",
      "/kaggle/input/costa-rican-household-poverty-prediction/train.csv.zip\n",
      "/kaggle/input/costa-rican-household-poverty-prediction/sample_submission.csv.zip\n",
      "/kaggle/input/costa-rican-household-poverty-prediction/codebook.xlsx\n",
      "/kaggle/input/costa-rican-household-poverty-prediction/train.csv\n",
      "/kaggle/input/costa-rican-household-poverty-prediction/test.csv\n",
      "/kaggle/input/costa-rican-household-poverty-prediction/test.csv.zip\n"
     ]
    }
   ],
   "source": [
    "# This Python 3 environment comes with many helpful analytics libraries installed\n",
    "# It is defined by the kaggle/python Docker image: https://github.com/kaggle/docker-python\n",
    "# For example, here's several helpful packages to load\n",
    "\n",
    "import numpy as np # linear algebra\n",
    "import pandas as pd # data processing, CSV file I/O (e.g. pd.read_csv)\n",
    "\n",
    "# Input data files are available in the read-only \"../input/\" directory\n",
    "# For example, running this (by clicking run or pressing Shift+Enter) will list all files under the input directory\n",
    "\n",
    "import os\n",
    "for dirname, _, filenames in os.walk('/kaggle/input'):\n",
    "    for filename in filenames:\n",
    "        print(os.path.join(dirname, filename))\n",
    "\n",
    "# You can write up to 20GB to the current directory (/kaggle/working/) that gets preserved as output when you create a version using \"Save & Run All\" \n",
    "# You can also write temporary files to /kaggle/temp/, but they won't be saved outside of the current session"
   ]
  },
  {
   "cell_type": "markdown",
   "id": "signal-trace",
   "metadata": {
    "papermill": {
     "duration": 0.081835,
     "end_time": "2021-06-22T20:59:49.011909",
     "exception": false,
     "start_time": "2021-06-22T20:59:48.930074",
     "status": "completed"
    },
    "tags": []
   },
   "source": [
    "#### Q1. Identify the output variable.\n",
    "\n",
    "#### Q2. Understand the type of data.\n",
    "\n",
    "#### Q3. Check if there are any biases in your dataset.\n",
    "\n",
    "#### Q4. Check whether all members of the house have the same poverty level.\n",
    "\n",
    "#### Q5. Check if there is a house without a family head.\n",
    " \n",
    "#### Q6. Set the poverty level of the members and the head of the house same in a family.\n",
    "\n",
    "#### Q7. Count how many null values are existing in columns.\n",
    "\n",
    "#### Q8. Remove null value rows of the target variable.\n",
    "\n",
    "#### Q9. Predict the accuracy using random forest classifier.\n",
    "\n",
    "#### Q10. Check the accuracy using a random forest with cross-validation"
   ]
  },
  {
   "cell_type": "code",
   "execution_count": 2,
   "id": "human-welding",
   "metadata": {
    "execution": {
     "iopub.execute_input": "2021-06-22T20:59:49.181776Z",
     "iopub.status.busy": "2021-06-22T20:59:49.180375Z",
     "iopub.status.idle": "2021-06-22T20:59:49.805801Z",
     "shell.execute_reply": "2021-06-22T20:59:49.805006Z",
     "shell.execute_reply.started": "2021-06-22T20:45:25.437127Z"
    },
    "papermill": {
     "duration": 0.71078,
     "end_time": "2021-06-22T20:59:49.805968",
     "exception": false,
     "start_time": "2021-06-22T20:59:49.095188",
     "status": "completed"
    },
    "tags": []
   },
   "outputs": [],
   "source": [
    "train = pd.read_csv('/kaggle/input/costa-rican-household-poverty-prediction/train.csv')\n",
    "test = pd.read_csv('/kaggle/input/costa-rican-household-poverty-prediction/test.csv')"
   ]
  },
  {
   "cell_type": "code",
   "execution_count": 3,
   "id": "through-message",
   "metadata": {
    "execution": {
     "iopub.execute_input": "2021-06-22T20:59:49.982002Z",
     "iopub.status.busy": "2021-06-22T20:59:49.981303Z",
     "iopub.status.idle": "2021-06-22T20:59:50.018852Z",
     "shell.execute_reply": "2021-06-22T20:59:50.019370Z",
     "shell.execute_reply.started": "2021-06-22T20:45:25.855798Z"
    },
    "papermill": {
     "duration": 0.131574,
     "end_time": "2021-06-22T20:59:50.019573",
     "exception": false,
     "start_time": "2021-06-22T20:59:49.887999",
     "status": "completed"
    },
    "tags": []
   },
   "outputs": [
    {
     "data": {
      "text/html": [
       "<div>\n",
       "<style scoped>\n",
       "    .dataframe tbody tr th:only-of-type {\n",
       "        vertical-align: middle;\n",
       "    }\n",
       "\n",
       "    .dataframe tbody tr th {\n",
       "        vertical-align: top;\n",
       "    }\n",
       "\n",
       "    .dataframe thead th {\n",
       "        text-align: right;\n",
       "    }\n",
       "</style>\n",
       "<table border=\"1\" class=\"dataframe\">\n",
       "  <thead>\n",
       "    <tr style=\"text-align: right;\">\n",
       "      <th></th>\n",
       "      <th>Id</th>\n",
       "      <th>v2a1</th>\n",
       "      <th>hacdor</th>\n",
       "      <th>rooms</th>\n",
       "      <th>hacapo</th>\n",
       "      <th>v14a</th>\n",
       "      <th>refrig</th>\n",
       "      <th>v18q</th>\n",
       "      <th>v18q1</th>\n",
       "      <th>r4h1</th>\n",
       "      <th>...</th>\n",
       "      <th>SQBescolari</th>\n",
       "      <th>SQBage</th>\n",
       "      <th>SQBhogar_total</th>\n",
       "      <th>SQBedjefe</th>\n",
       "      <th>SQBhogar_nin</th>\n",
       "      <th>SQBovercrowding</th>\n",
       "      <th>SQBdependency</th>\n",
       "      <th>SQBmeaned</th>\n",
       "      <th>agesq</th>\n",
       "      <th>Target</th>\n",
       "    </tr>\n",
       "  </thead>\n",
       "  <tbody>\n",
       "    <tr>\n",
       "      <th>0</th>\n",
       "      <td>ID_279628684</td>\n",
       "      <td>190000.0</td>\n",
       "      <td>0</td>\n",
       "      <td>3</td>\n",
       "      <td>0</td>\n",
       "      <td>1</td>\n",
       "      <td>1</td>\n",
       "      <td>0</td>\n",
       "      <td>NaN</td>\n",
       "      <td>0</td>\n",
       "      <td>...</td>\n",
       "      <td>100</td>\n",
       "      <td>1849</td>\n",
       "      <td>1</td>\n",
       "      <td>100</td>\n",
       "      <td>0</td>\n",
       "      <td>1.0</td>\n",
       "      <td>0.0</td>\n",
       "      <td>100.0</td>\n",
       "      <td>1849</td>\n",
       "      <td>4</td>\n",
       "    </tr>\n",
       "    <tr>\n",
       "      <th>1</th>\n",
       "      <td>ID_f29eb3ddd</td>\n",
       "      <td>135000.0</td>\n",
       "      <td>0</td>\n",
       "      <td>4</td>\n",
       "      <td>0</td>\n",
       "      <td>1</td>\n",
       "      <td>1</td>\n",
       "      <td>1</td>\n",
       "      <td>1.0</td>\n",
       "      <td>0</td>\n",
       "      <td>...</td>\n",
       "      <td>144</td>\n",
       "      <td>4489</td>\n",
       "      <td>1</td>\n",
       "      <td>144</td>\n",
       "      <td>0</td>\n",
       "      <td>1.0</td>\n",
       "      <td>64.0</td>\n",
       "      <td>144.0</td>\n",
       "      <td>4489</td>\n",
       "      <td>4</td>\n",
       "    </tr>\n",
       "  </tbody>\n",
       "</table>\n",
       "<p>2 rows × 143 columns</p>\n",
       "</div>"
      ],
      "text/plain": [
       "             Id      v2a1  hacdor  rooms  hacapo  v14a  refrig  v18q  v18q1  \\\n",
       "0  ID_279628684  190000.0       0      3       0     1       1     0    NaN   \n",
       "1  ID_f29eb3ddd  135000.0       0      4       0     1       1     1    1.0   \n",
       "\n",
       "   r4h1  ...  SQBescolari  SQBage  SQBhogar_total  SQBedjefe  SQBhogar_nin  \\\n",
       "0     0  ...          100    1849               1        100             0   \n",
       "1     0  ...          144    4489               1        144             0   \n",
       "\n",
       "   SQBovercrowding  SQBdependency  SQBmeaned  agesq  Target  \n",
       "0              1.0            0.0      100.0   1849       4  \n",
       "1              1.0           64.0      144.0   4489       4  \n",
       "\n",
       "[2 rows x 143 columns]"
      ]
     },
     "execution_count": 3,
     "metadata": {},
     "output_type": "execute_result"
    }
   ],
   "source": [
    "train.head(2)"
   ]
  },
  {
   "cell_type": "code",
   "execution_count": 4,
   "id": "numerical-strap",
   "metadata": {
    "_kg_hide-input": true,
    "_kg_hide-output": true,
    "execution": {
     "iopub.execute_input": "2021-06-22T20:59:50.187011Z",
     "iopub.status.busy": "2021-06-22T20:59:50.186225Z",
     "iopub.status.idle": "2021-06-22T20:59:50.193434Z",
     "shell.execute_reply": "2021-06-22T20:59:50.193916Z",
     "shell.execute_reply.started": "2021-06-22T20:45:25.884126Z"
    },
    "papermill": {
     "duration": 0.092606,
     "end_time": "2021-06-22T20:59:50.194147",
     "exception": false,
     "start_time": "2021-06-22T20:59:50.101541",
     "status": "completed"
    },
    "tags": []
   },
   "outputs": [],
   "source": [
    "# v2a1, Monthly rent payment\n",
    "# hacdor, =1 Overcrowding by bedrooms\n",
    "# rooms,  number of all rooms in the house                    \n",
    "# hacapo, =1 Overcrowding by rooms\n",
    "# v14a, =1 has bathroom in the household                           \n",
    "# refrig, =1 if the household has refrigerator\n",
    "# v18q, owns a tablet\n",
    "# v18q1, number of tablets household owns\n",
    "# r4h1, Males younger than 12 years of age\n",
    "# r4h2, Males 12 years of age and older\n",
    "# r4h3, Total males in the household\n",
    "# r4m1, Females younger than 12 years of age\n",
    "# r4m2, Females 12 years of age and older\n",
    "# r4m3, Total females in the household\n",
    "# r4t1, persons younger than 12 years of age\n",
    "# r4t2, persons 12 years of age and older\n",
    "# r4t3, Total persons in the household\n",
    "# tamhog, size of the household\n",
    "# tamviv, number of persons living in the household\n",
    "# escolari, years of schooling\n",
    "# rez_esc, Years behind in school\n",
    "# hhsize, household size\n",
    "# paredblolad, =1 if predominant material on the outside wall is block or brick\n",
    "# paredzocalo, \"=1 if predominant material on the outside wall is socket (wood,  zinc or absbesto\"\n",
    "# paredpreb, =1 if predominant material on the outside wall is prefabricated or cement\n",
    "# pareddes, =1 if predominant material on the outside wall is waste material\n",
    "# paredmad, =1 if predominant material on the outside wall is wood\n",
    "# paredzinc, =1 if predominant material on the outside wall is zink\n",
    "# paredfibras, =1 if predominant material on the outside wall is natural fibers\n",
    "# paredother, =1 if predominant material on the outside wall is other\n",
    "# pisomoscer, \"=1 if predominant material on the floor is mosaic,  ceramic,  terrazo\"\n",
    "# pisocemento, =1 if predominant material on the floor is cement\n",
    "# pisoother, =1 if predominant material on the floor is other\n",
    "# pisonatur, =1 if predominant material on the floor is  natural material\n",
    "# pisonotiene, =1 if no floor at the household\n",
    "# pisomadera, =1 if predominant material on the floor is wood\n",
    "# techozinc, =1 if predominant material on the roof is metal foil or zink\n",
    "# techoentrepiso, \"=1 if predominant material on the roof is fiber cement,  mezzanine \"\n",
    "# techocane, =1 if predominant material on the roof is natural fibers\n",
    "# techootro, =1 if predominant material on the roof is other\n",
    "# cielorazo, =1 if the house has ceiling\n",
    "# abastaguadentro, =1 if water provision inside the dwelling\n",
    "# abastaguafuera, =1 if water provision outside the dwelling\n",
    "# abastaguano, =1 if no water provision\n",
    "# public, \"=1 electricity from CNFL,  ICE,  ESPH/JASEC\"\n",
    "# planpri, =1 electricity from private plant\n",
    "# noelec, =1 no electricity in the dwelling\n",
    "# coopele, =1 electricity from cooperative\n",
    "# sanitario1, =1 no toilet in the dwelling\n",
    "# sanitario2, =1 toilet connected to sewer or cesspool\n",
    "# sanitario3, =1 toilet connected to  septic tank\n",
    "# sanitario5, =1 toilet connected to black hole or letrine\n",
    "# sanitario6, =1 toilet connected to other system\n",
    "# energcocinar1, =1 no main source of energy used for cooking (no kitchen)\n",
    "# energcocinar2, =1 main source of energy used for cooking electricity\n",
    "# energcocinar3, =1 main source of energy used for cooking gas\n",
    "# energcocinar4, =1 main source of energy used for cooking wood charcoal\n",
    "# elimbasu1, =1 if rubbish disposal mainly by tanker truck\n",
    "# elimbasu2, =1 if rubbish disposal mainly by botan hollow or buried\n",
    "# elimbasu3, =1 if rubbish disposal mainly by burning\n",
    "# elimbasu4, =1 if rubbish disposal mainly by throwing in an unoccupied space\n",
    "# elimbasu5, \"=1 if rubbish disposal mainly by throwing in river,  creek or sea\"\n",
    "# elimbasu6, =1 if rubbish disposal mainly other\n",
    "# epared1, =1 if walls are bad\n",
    "# epared2, =1 if walls are regular\n",
    "# epared3, =1 if walls are good\n",
    "# etecho1, =1 if roof are bad\n",
    "# etecho2, =1 if roof are regular\n",
    "# etecho3, =1 if roof are good\n",
    "# eviv1, =1 if floor are bad\n",
    "# eviv2, =1 if floor are regular\n",
    "# eviv3, =1 if floor are good\n",
    "# dis, =1 if disable person\n",
    "# male, =1 if male\n",
    "# female, =1 if female\n",
    "# estadocivil1, =1 if less than 10 years old\n",
    "# estadocivil2, =1 if free or coupled uunion\n",
    "# estadocivil3, =1 if married\n",
    "# estadocivil4, =1 if divorced\n",
    "# estadocivil5, =1 if separated\n",
    "# estadocivil6, =1 if widow/er\n",
    "# estadocivil7, =1 if single\n",
    "# parentesco1, =1 if household head\n",
    "# parentesco2, =1 if spouse/partner\n",
    "# parentesco3, =1 if son/doughter\n",
    "# parentesco4, =1 if stepson/doughter\n",
    "# parentesco5, =1 if son/doughter in law\n",
    "# parentesco6, =1 if grandson/doughter\n",
    "# parentesco7, =1 if mother/father\n",
    "# parentesco8, =1 if father/mother in law\n",
    "# parentesco9, =1 if brother/sister\n",
    "# parentesco10, =1 if brother/sister in law\n",
    "# parentesco11, =1 if other family member\n",
    "# parentesco12, =1 if other non family member\n",
    "# idhogar, Household level identifier\n",
    "# hogar_nin, Number of children 0 to 19 in household\n",
    "# hogar_adul, Number of adults in household\n",
    "# hogar_mayor, # of individuals 65+ in the household\n",
    "# hogar_total, # of total individuals in the household\n",
    "# dependency, Dependency rate, calculated = (number of members of the household younger than 19 or older than 64)/(number of member of household between 19 and 64)\n",
    "# edjefe, years of education of male head of household, based on the interaction of escolari (years of education), head of household and gender, yes=1 and no=0\n",
    "# edjefa, years of education of female head of household, based on the interaction of escolari (years of education), head of household and gender, yes=1 and no=0\n",
    "# meaneduc,average years of education for adults (18+)\n",
    "# instlevel1, =1 no level of education\n",
    "# instlevel2, =1 incomplete primary\n",
    "# instlevel3, =1 complete primary\n",
    "# instlevel4, =1 incomplete academic secondary level\n",
    "# instlevel5, =1 complete academic secondary level\n",
    "# instlevel6, =1 incomplete technical secondary level\n",
    "# instlevel7, =1 complete technical secondary level\n",
    "# instlevel8, =1 undergraduate and higher education\n",
    "# instlevel9, =1 postgraduate higher education\n",
    "# bedrooms, number of bedrooms\n",
    "# overcrowding, # persons per room\n",
    "# tipovivi1, =1 own and fully paid house\n",
    "# tipovivi2, \"=1 own,  paying in installments\"\n",
    "# tipovivi3, =1 rented\n",
    "# tipovivi4, =1 precarious\n",
    "# tipovivi5, \"=1 other(assigned,  borrowed)\"\n",
    "# computer, =1 if the household has notebook or desktop computer\n",
    "# television, =1 if the household has TV\n",
    "# mobilephone, =1 if mobile phone\n",
    "# qmobilephone, # of mobile phones\n",
    "# lugar1, =1 region Central\n",
    "# lugar2, =1 region Chorotega\n",
    "# lugar3, =1 region PacÃƒÂ­fico central\n",
    "# lugar4, =1 region Brunca\n",
    "# lugar5, =1 region Huetar AtlÃƒÂ¡ntica\n",
    "# lugar6, =1 region Huetar Norte\n",
    "# area1, =1 zona urbana\n",
    "# area2, =2 zona rural\n",
    "# age, Age in years\n",
    "# SQBescolari, escolari squared\n",
    "# SQBage, age squared\n",
    "# SQBhogar_total, hogar_total squared\n",
    "# SQBedjefe, edjefe squared\n",
    "# SQBhogar_nin, hogar_nin squared\n",
    "# SQBovercrowding, overcrowding squared\n",
    "# SQBdependency, dependency squared\n",
    "# SQBmeaned, square of the mean years of education of adults (>=18) in the household\n"
   ]
  },
  {
   "cell_type": "markdown",
   "id": "undefined-transparency",
   "metadata": {
    "papermill": {
     "duration": 0.08237,
     "end_time": "2021-06-22T20:59:50.358019",
     "exception": false,
     "start_time": "2021-06-22T20:59:50.275649",
     "status": "completed"
    },
    "tags": []
   },
   "source": [
    "<!-- v2a1, Monthly rent payment\n",
    "hacdor, =1 Overcrowding by bedrooms\n",
    "rooms,  number of all rooms in the house\n",
    "hacapo, =1 Overcrowding by rooms\n",
    "v14a, =1 has bathroom in the household\n",
    "refrig, =1 if the household has refrigerator\n",
    "v18q, owns a tablet\n",
    "v18q1, number of tablets household owns\n",
    "r4h1, Males younger than 12 years of age\n",
    "r4h2, Males 12 years of age and older\n",
    "r4h3, Total males in the household\n",
    "r4m1, Females younger than 12 years of age\n",
    "r4m2, Females 12 years of age and older\n",
    "r4m3, Total females in the household\n",
    "r4t1, persons younger than 12 years of age\n",
    "r4t2, persons 12 years of age and older\n",
    "r4t3, Total persons in the household\n",
    "tamhog, size of the household\n",
    "tamviv, number of persons living in the household\n",
    "escolari, years of schooling\n",
    "rez_esc, Years behind in school\n",
    "hhsize, household size\n",
    "paredblolad, =1 if predominant material on the outside wall is block or brick\n",
    "paredzocalo, \"=1 if predominant material on the outside wall is socket (wood,  zinc or absbesto\"\n",
    "paredpreb, =1 if predominant material on the outside wall is prefabricated or cement\n",
    "pareddes, =1 if predominant material on the outside wall is waste material\n",
    "paredmad, =1 if predominant material on the outside wall is wood\n",
    "paredzinc, =1 if predominant material on the outside wall is zink\n",
    "paredfibras, =1 if predominant material on the outside wall is natural fibers\n",
    "paredother, =1 if predominant material on the outside wall is other\n",
    "pisomoscer, \"=1 if predominant material on the floor is mosaic,  ceramic,  terrazo\"\n",
    "pisocemento, =1 if predominant material on the floor is cement\n",
    "pisoother, =1 if predominant material on the floor is other\n",
    "pisonatur, =1 if predominant material on the floor is  natural material\n",
    "pisonotiene, =1 if no floor at the household\n",
    "pisomadera, =1 if predominant material on the floor is wood\n",
    "techozinc, =1 if predominant material on the roof is metal foil or zink\n",
    "techoentrepiso, \"=1 if predominant material on the roof is fiber cement,  mezzanine \"\n",
    "techocane, =1 if predominant material on the roof is natural fibers\n",
    "techootro, =1 if predominant material on the roof is other\n",
    "cielorazo, =1 if the house has ceiling\n",
    "abastaguadentro, =1 if water provision inside the dwelling\n",
    "abastaguafuera, =1 if water provision outside the dwelling\n",
    "abastaguano, =1 if no water provision\n",
    "public, \"=1 electricity from CNFL,  ICE,  ESPH/JASEC\"\n",
    "planpri, =1 electricity from private plant\n",
    "noelec, =1 no electricity in the dwelling\n",
    "coopele, =1 electricity from cooperative\n",
    "sanitario1, =1 no toilet in the dwelling\n",
    "sanitario2, =1 toilet connected to sewer or cesspool\n",
    "sanitario3, =1 toilet connected to  septic tank\n",
    "sanitario5, =1 toilet connected to black hole or letrine\n",
    "sanitario6, =1 toilet connected to other system\n",
    "energcocinar1, =1 no main source of energy used for cooking (no kitchen)\n",
    "energcocinar2, =1 main source of energy used for cooking electricity\n",
    "energcocinar3, =1 main source of energy used for cooking gas\n",
    "energcocinar4, =1 main source of energy used for cooking wood charcoal\n",
    "elimbasu1, =1 if rubbish disposal mainly by tanker truck\n",
    "elimbasu2, =1 if rubbish disposal mainly by botan hollow or buried\n",
    "elimbasu3, =1 if rubbish disposal mainly by burning\n",
    "elimbasu4, =1 if rubbish disposal mainly by throwing in an unoccupied space\n",
    "elimbasu5, \"=1 if rubbish disposal mainly by throwing in river,  creek or sea\"\n",
    "elimbasu6, =1 if rubbish disposal mainly other\n",
    "epared1, =1 if walls are bad\n",
    "epared2, =1 if walls are regular\n",
    "epared3, =1 if walls are good\n",
    "etecho1, =1 if roof are bad\n",
    "etecho2, =1 if roof are regular\n",
    "etecho3, =1 if roof are good\n",
    "eviv1, =1 if floor are bad\n",
    "eviv2, =1 if floor are regular\n",
    "eviv3, =1 if floor are good\n",
    "dis, =1 if disable person\n",
    "male, =1 if male\n",
    "female, =1 if female\n",
    "estadocivil1, =1 if less than 10 years old\n",
    "estadocivil2, =1 if free or coupled uunion\n",
    "estadocivil3, =1 if married\n",
    "estadocivil4, =1 if divorced\n",
    "estadocivil5, =1 if separated\n",
    "estadocivil6, =1 if widow/er\n",
    "estadocivil7, =1 if single\n",
    "parentesco1, =1 if household head\n",
    "parentesco2, =1 if spouse/partner\n",
    "parentesco3, =1 if son/doughter\n",
    "parentesco4, =1 if stepson/doughter\n",
    "parentesco5, =1 if son/doughter in law\n",
    "parentesco6, =1 if grandson/doughter\n",
    "parentesco7, =1 if mother/father\n",
    "parentesco8, =1 if father/mother in law\n",
    "parentesco9, =1 if brother/sister\n",
    "parentesco10, =1 if brother/sister in law\n",
    "parentesco11, =1 if other family member\n",
    "parentesco12, =1 if other non family member\n",
    "idhogar, Household level identifier\n",
    "hogar_nin, Number of children 0 to 19 in household\n",
    "hogar_adul, Number of adults in household\n",
    "hogar_mayor, # of individuals 65+ in the household\n",
    "hogar_total, # of total individuals in the household\n",
    "dependency, Dependency rate, calculated = (number of members of the household younger than 19 or older than 64)/(number of member of household between 19 and 64)\n",
    "edjefe, years of education of male head of household, based on the interaction of escolari (years of education), head of household and gender, yes=1 and no=0\n",
    "edjefa, years of education of female head of household, based on the interaction of escolari (years of education), head of household and gender, yes=1 and no=0\n",
    "meaneduc,average years of education for adults (18+)\n",
    "instlevel1, =1 no level of education\n",
    "instlevel2, =1 incomplete primary\n",
    "instlevel3, =1 complete primary\n",
    "instlevel4, =1 incomplete academic secondary level\n",
    "instlevel5, =1 complete academic secondary level\n",
    "instlevel6, =1 incomplete technical secondary level\n",
    "instlevel7, =1 complete technical secondary level\n",
    "instlevel8, =1 undergraduate and higher education\n",
    "instlevel9, =1 postgraduate higher education\n",
    "bedrooms, number of bedrooms\n",
    "overcrowding, # persons per room\n",
    "tipovivi1, =1 own and fully paid house\n",
    "tipovivi2, \"=1 own,  paying in installments\"\n",
    "tipovivi3, =1 rented\n",
    "tipovivi4, =1 precarious\n",
    "tipovivi5, \"=1 other(assigned,  borrowed)\"\n",
    "computer, =1 if the household has notebook or desktop computer\n",
    "television, =1 if the household has TV\n",
    "mobilephone, =1 if mobile phone\n",
    "qmobilephone, # of mobile phones\n",
    "lugar1, =1 region Central\n",
    "lugar2, =1 region Chorotega\n",
    "lugar3, =1 region PacÃƒÂ­fico central\n",
    "lugar4, =1 region Brunca\n",
    "lugar5, =1 region Huetar AtlÃƒÂ¡ntica\n",
    "lugar6, =1 region Huetar Norte\n",
    "area1, =1 zona urbana\n",
    "area2, =2 zona rural\n",
    "age, Age in years\n",
    "SQBescolari, escolari squared\n",
    "SQBage, age squared\n",
    "SQBhogar_total, hogar_total squared\n",
    "SQBedjefe, edjefe squared\n",
    "SQBhogar_nin, hogar_nin squared\n",
    "SQBovercrowding, overcrowding squared\n",
    "SQBdependency, dependency squared\n",
    "SQBmeaned, square of the mean years of education of adults (>=18) in the household\n",
    " -->"
   ]
  },
  {
   "cell_type": "code",
   "execution_count": 5,
   "id": "identified-cycle",
   "metadata": {
    "execution": {
     "iopub.execute_input": "2021-06-22T20:59:50.528131Z",
     "iopub.status.busy": "2021-06-22T20:59:50.527446Z",
     "iopub.status.idle": "2021-06-22T20:59:50.549116Z",
     "shell.execute_reply": "2021-06-22T20:59:50.549598Z",
     "shell.execute_reply.started": "2021-06-22T20:45:25.897905Z"
    },
    "papermill": {
     "duration": 0.10908,
     "end_time": "2021-06-22T20:59:50.549818",
     "exception": false,
     "start_time": "2021-06-22T20:59:50.440738",
     "status": "completed"
    },
    "tags": []
   },
   "outputs": [
    {
     "data": {
      "text/html": [
       "<div>\n",
       "<style scoped>\n",
       "    .dataframe tbody tr th:only-of-type {\n",
       "        vertical-align: middle;\n",
       "    }\n",
       "\n",
       "    .dataframe tbody tr th {\n",
       "        vertical-align: top;\n",
       "    }\n",
       "\n",
       "    .dataframe thead th {\n",
       "        text-align: right;\n",
       "    }\n",
       "</style>\n",
       "<table border=\"1\" class=\"dataframe\">\n",
       "  <thead>\n",
       "    <tr style=\"text-align: right;\">\n",
       "      <th></th>\n",
       "      <th>Id</th>\n",
       "      <th>v2a1</th>\n",
       "      <th>hacdor</th>\n",
       "      <th>rooms</th>\n",
       "      <th>hacapo</th>\n",
       "      <th>v14a</th>\n",
       "      <th>refrig</th>\n",
       "      <th>v18q</th>\n",
       "      <th>v18q1</th>\n",
       "      <th>r4h1</th>\n",
       "      <th>...</th>\n",
       "      <th>age</th>\n",
       "      <th>SQBescolari</th>\n",
       "      <th>SQBage</th>\n",
       "      <th>SQBhogar_total</th>\n",
       "      <th>SQBedjefe</th>\n",
       "      <th>SQBhogar_nin</th>\n",
       "      <th>SQBovercrowding</th>\n",
       "      <th>SQBdependency</th>\n",
       "      <th>SQBmeaned</th>\n",
       "      <th>agesq</th>\n",
       "    </tr>\n",
       "  </thead>\n",
       "  <tbody>\n",
       "    <tr>\n",
       "      <th>0</th>\n",
       "      <td>ID_2f6873615</td>\n",
       "      <td>NaN</td>\n",
       "      <td>0</td>\n",
       "      <td>5</td>\n",
       "      <td>0</td>\n",
       "      <td>1</td>\n",
       "      <td>1</td>\n",
       "      <td>0</td>\n",
       "      <td>NaN</td>\n",
       "      <td>1</td>\n",
       "      <td>...</td>\n",
       "      <td>4</td>\n",
       "      <td>0</td>\n",
       "      <td>16</td>\n",
       "      <td>9</td>\n",
       "      <td>0</td>\n",
       "      <td>1</td>\n",
       "      <td>2.25</td>\n",
       "      <td>0.25</td>\n",
       "      <td>272.25</td>\n",
       "      <td>16</td>\n",
       "    </tr>\n",
       "    <tr>\n",
       "      <th>1</th>\n",
       "      <td>ID_1c78846d2</td>\n",
       "      <td>NaN</td>\n",
       "      <td>0</td>\n",
       "      <td>5</td>\n",
       "      <td>0</td>\n",
       "      <td>1</td>\n",
       "      <td>1</td>\n",
       "      <td>0</td>\n",
       "      <td>NaN</td>\n",
       "      <td>1</td>\n",
       "      <td>...</td>\n",
       "      <td>41</td>\n",
       "      <td>256</td>\n",
       "      <td>1681</td>\n",
       "      <td>9</td>\n",
       "      <td>0</td>\n",
       "      <td>1</td>\n",
       "      <td>2.25</td>\n",
       "      <td>0.25</td>\n",
       "      <td>272.25</td>\n",
       "      <td>1681</td>\n",
       "    </tr>\n",
       "  </tbody>\n",
       "</table>\n",
       "<p>2 rows × 142 columns</p>\n",
       "</div>"
      ],
      "text/plain": [
       "             Id  v2a1  hacdor  rooms  hacapo  v14a  refrig  v18q  v18q1  r4h1  \\\n",
       "0  ID_2f6873615   NaN       0      5       0     1       1     0    NaN     1   \n",
       "1  ID_1c78846d2   NaN       0      5       0     1       1     0    NaN     1   \n",
       "\n",
       "   ...  age  SQBescolari  SQBage  SQBhogar_total  SQBedjefe  SQBhogar_nin  \\\n",
       "0  ...    4            0      16               9          0             1   \n",
       "1  ...   41          256    1681               9          0             1   \n",
       "\n",
       "   SQBovercrowding  SQBdependency  SQBmeaned  agesq  \n",
       "0             2.25           0.25     272.25     16  \n",
       "1             2.25           0.25     272.25   1681  \n",
       "\n",
       "[2 rows x 142 columns]"
      ]
     },
     "execution_count": 5,
     "metadata": {},
     "output_type": "execute_result"
    }
   ],
   "source": [
    "test.head(2)"
   ]
  },
  {
   "cell_type": "code",
   "execution_count": 6,
   "id": "purple-apple",
   "metadata": {
    "execution": {
     "iopub.execute_input": "2021-06-22T20:59:50.719025Z",
     "iopub.status.busy": "2021-06-22T20:59:50.718295Z",
     "iopub.status.idle": "2021-06-22T20:59:50.723658Z",
     "shell.execute_reply": "2021-06-22T20:59:50.723051Z",
     "shell.execute_reply.started": "2021-06-22T20:45:25.934980Z"
    },
    "papermill": {
     "duration": 0.092025,
     "end_time": "2021-06-22T20:59:50.723820",
     "exception": false,
     "start_time": "2021-06-22T20:59:50.631795",
     "status": "completed"
    },
    "tags": []
   },
   "outputs": [
    {
     "data": {
      "text/plain": [
       "(9557, 143)"
      ]
     },
     "execution_count": 6,
     "metadata": {},
     "output_type": "execute_result"
    }
   ],
   "source": [
    "train.shape"
   ]
  },
  {
   "cell_type": "code",
   "execution_count": 7,
   "id": "isolated-means",
   "metadata": {
    "execution": {
     "iopub.execute_input": "2021-06-22T20:59:50.900369Z",
     "iopub.status.busy": "2021-06-22T20:59:50.899676Z",
     "iopub.status.idle": "2021-06-22T20:59:50.902613Z",
     "shell.execute_reply": "2021-06-22T20:59:50.903098Z",
     "shell.execute_reply.started": "2021-06-22T20:45:25.950837Z"
    },
    "papermill": {
     "duration": 0.093557,
     "end_time": "2021-06-22T20:59:50.903314",
     "exception": false,
     "start_time": "2021-06-22T20:59:50.809757",
     "status": "completed"
    },
    "tags": []
   },
   "outputs": [
    {
     "data": {
      "text/plain": [
       "(23856, 142)"
      ]
     },
     "execution_count": 7,
     "metadata": {},
     "output_type": "execute_result"
    }
   ],
   "source": [
    "test.shape"
   ]
  },
  {
   "cell_type": "code",
   "execution_count": 8,
   "id": "combined-pollution",
   "metadata": {
    "execution": {
     "iopub.execute_input": "2021-06-22T20:59:51.076807Z",
     "iopub.status.busy": "2021-06-22T20:59:51.076057Z",
     "iopub.status.idle": "2021-06-22T20:59:51.106597Z",
     "shell.execute_reply": "2021-06-22T20:59:51.105923Z",
     "shell.execute_reply.started": "2021-06-22T20:45:25.962637Z"
    },
    "papermill": {
     "duration": 0.118536,
     "end_time": "2021-06-22T20:59:51.106818",
     "exception": false,
     "start_time": "2021-06-22T20:59:50.988282",
     "status": "completed"
    },
    "tags": []
   },
   "outputs": [
    {
     "name": "stdout",
     "output_type": "stream",
     "text": [
      "<class 'pandas.core.frame.DataFrame'>\n",
      "RangeIndex: 9557 entries, 0 to 9556\n",
      "Columns: 143 entries, Id to Target\n",
      "dtypes: float64(8), int64(130), object(5)\n",
      "memory usage: 10.4+ MB\n"
     ]
    }
   ],
   "source": [
    "train.info()"
   ]
  },
  {
   "cell_type": "code",
   "execution_count": 9,
   "id": "average-order",
   "metadata": {
    "execution": {
     "iopub.execute_input": "2021-06-22T20:59:51.282978Z",
     "iopub.status.busy": "2021-06-22T20:59:51.282164Z",
     "iopub.status.idle": "2021-06-22T20:59:51.298549Z",
     "shell.execute_reply": "2021-06-22T20:59:51.299093Z",
     "shell.execute_reply.started": "2021-06-22T20:45:25.993776Z"
    },
    "papermill": {
     "duration": 0.106553,
     "end_time": "2021-06-22T20:59:51.299319",
     "exception": false,
     "start_time": "2021-06-22T20:59:51.192766",
     "status": "completed"
    },
    "tags": []
   },
   "outputs": [
    {
     "data": {
      "text/plain": [
       "Id                    0\n",
       "v2a1               6860\n",
       "hacdor                0\n",
       "rooms                 0\n",
       "hacapo                0\n",
       "                   ... \n",
       "SQBovercrowding       0\n",
       "SQBdependency         0\n",
       "SQBmeaned             5\n",
       "agesq                 0\n",
       "Target                0\n",
       "Length: 143, dtype: int64"
      ]
     },
     "execution_count": 9,
     "metadata": {},
     "output_type": "execute_result"
    }
   ],
   "source": [
    "train.isnull().sum()"
   ]
  },
  {
   "cell_type": "markdown",
   "id": "three-pilot",
   "metadata": {
    "papermill": {
     "duration": 0.084977,
     "end_time": "2021-06-22T20:59:51.468603",
     "exception": false,
     "start_time": "2021-06-22T20:59:51.383626",
     "status": "completed"
    },
    "tags": []
   },
   "source": [
    "### Q1. What is our Target Variable"
   ]
  },
  {
   "cell_type": "code",
   "execution_count": 10,
   "id": "anticipated-aruba",
   "metadata": {
    "execution": {
     "iopub.execute_input": "2021-06-22T20:59:51.641840Z",
     "iopub.status.busy": "2021-06-22T20:59:51.641139Z",
     "iopub.status.idle": "2021-06-22T20:59:51.648069Z",
     "shell.execute_reply": "2021-06-22T20:59:51.647525Z",
     "shell.execute_reply.started": "2021-06-22T20:45:26.014044Z"
    },
    "papermill": {
     "duration": 0.094757,
     "end_time": "2021-06-22T20:59:51.648225",
     "exception": false,
     "start_time": "2021-06-22T20:59:51.553468",
     "status": "completed"
    },
    "tags": []
   },
   "outputs": [
    {
     "name": "stdout",
     "output_type": "stream",
     "text": [
      "Our Target variable is Target\n"
     ]
    }
   ],
   "source": [
    "for i in train.columns:\n",
    "    if i not in test.columns:\n",
    "        print(\"Our Target variable is {}\".format(i))"
   ]
  },
  {
   "cell_type": "code",
   "execution_count": 11,
   "id": "rural-insulation",
   "metadata": {
    "execution": {
     "iopub.execute_input": "2021-06-22T20:59:51.826772Z",
     "iopub.status.busy": "2021-06-22T20:59:51.826013Z",
     "iopub.status.idle": "2021-06-22T20:59:51.828899Z",
     "shell.execute_reply": "2021-06-22T20:59:51.829435Z",
     "shell.execute_reply.started": "2021-06-22T20:45:26.021184Z"
    },
    "papermill": {
     "duration": 0.095372,
     "end_time": "2021-06-22T20:59:51.829615",
     "exception": false,
     "start_time": "2021-06-22T20:59:51.734243",
     "status": "completed"
    },
    "tags": []
   },
   "outputs": [
    {
     "data": {
      "text/plain": [
       "0"
      ]
     },
     "execution_count": 11,
     "metadata": {},
     "output_type": "execute_result"
    }
   ],
   "source": [
    "train['Target'].isnull().sum()"
   ]
  },
  {
   "cell_type": "code",
   "execution_count": 12,
   "id": "outside-uzbekistan",
   "metadata": {
    "execution": {
     "iopub.execute_input": "2021-06-22T20:59:52.008805Z",
     "iopub.status.busy": "2021-06-22T20:59:52.008019Z",
     "iopub.status.idle": "2021-06-22T20:59:52.015232Z",
     "shell.execute_reply": "2021-06-22T20:59:52.015886Z",
     "shell.execute_reply.started": "2021-06-22T20:45:26.036842Z"
    },
    "papermill": {
     "duration": 0.101269,
     "end_time": "2021-06-22T20:59:52.016424",
     "exception": false,
     "start_time": "2021-06-22T20:59:51.915155",
     "status": "completed"
    },
    "tags": []
   },
   "outputs": [
    {
     "data": {
      "text/plain": [
       "4    5996\n",
       "2    1597\n",
       "3    1209\n",
       "1     755\n",
       "Name: Target, dtype: int64"
      ]
     },
     "execution_count": 12,
     "metadata": {},
     "output_type": "execute_result"
    }
   ],
   "source": [
    "train['Target'].value_counts()"
   ]
  },
  {
   "cell_type": "markdown",
   "id": "frank-shareware",
   "metadata": {
    "papermill": {
     "duration": 0.084529,
     "end_time": "2021-06-22T20:59:52.189741",
     "exception": false,
     "start_time": "2021-06-22T20:59:52.105212",
     "status": "completed"
    },
    "tags": []
   },
   "source": [
    "Target - the target is an ordinal variable indicating groups of income levels.\n",
    "\n",
    "1. extreme poor people       = 755 \n",
    "2. moderate poverty          = 1597\n",
    "3. vulnerable households     = 1209\n",
    "4. non vulnerable households = 5996 \n"
   ]
  },
  {
   "cell_type": "code",
   "execution_count": 13,
   "id": "brazilian-collect",
   "metadata": {
    "execution": {
     "iopub.execute_input": "2021-06-22T20:59:52.367905Z",
     "iopub.status.busy": "2021-06-22T20:59:52.367152Z",
     "iopub.status.idle": "2021-06-22T20:59:52.373614Z",
     "shell.execute_reply": "2021-06-22T20:59:52.373063Z",
     "shell.execute_reply.started": "2021-06-22T20:45:26.055009Z"
    },
    "papermill": {
     "duration": 0.095315,
     "end_time": "2021-06-22T20:59:52.373773",
     "exception": false,
     "start_time": "2021-06-22T20:59:52.278458",
     "status": "completed"
    },
    "tags": []
   },
   "outputs": [
    {
     "data": {
      "text/plain": [
       "dtype('O')"
      ]
     },
     "execution_count": 13,
     "metadata": {},
     "output_type": "execute_result"
    }
   ],
   "source": [
    "train['idhogar'].dtype"
   ]
  },
  {
   "cell_type": "code",
   "execution_count": 14,
   "id": "departmental-shadow",
   "metadata": {
    "execution": {
     "iopub.execute_input": "2021-06-22T20:59:52.555073Z",
     "iopub.status.busy": "2021-06-22T20:59:52.554222Z",
     "iopub.status.idle": "2021-06-22T20:59:52.557091Z",
     "shell.execute_reply": "2021-06-22T20:59:52.557585Z",
     "shell.execute_reply.started": "2021-06-22T20:45:26.066269Z"
    },
    "papermill": {
     "duration": 0.097107,
     "end_time": "2021-06-22T20:59:52.557775",
     "exception": false,
     "start_time": "2021-06-22T20:59:52.460668",
     "status": "completed"
    },
    "tags": []
   },
   "outputs": [
    {
     "data": {
      "text/plain": [
       "0"
      ]
     },
     "execution_count": 14,
     "metadata": {},
     "output_type": "execute_result"
    }
   ],
   "source": [
    "train['idhogar'].isnull().sum()"
   ]
  },
  {
   "cell_type": "code",
   "execution_count": 15,
   "id": "amino-department",
   "metadata": {
    "execution": {
     "iopub.execute_input": "2021-06-22T20:59:52.737392Z",
     "iopub.status.busy": "2021-06-22T20:59:52.736684Z",
     "iopub.status.idle": "2021-06-22T20:59:52.746775Z",
     "shell.execute_reply": "2021-06-22T20:59:52.746096Z",
     "shell.execute_reply.started": "2021-06-22T20:45:26.080324Z"
    },
    "papermill": {
     "duration": 0.104854,
     "end_time": "2021-06-22T20:59:52.746924",
     "exception": false,
     "start_time": "2021-06-22T20:59:52.642070",
     "status": "completed"
    },
    "tags": []
   },
   "outputs": [
    {
     "data": {
      "text/plain": [
       "array([1, 0])"
      ]
     },
     "execution_count": 15,
     "metadata": {},
     "output_type": "execute_result"
    }
   ],
   "source": [
    "train['parentesco1'].unique()"
   ]
  },
  {
   "cell_type": "markdown",
   "id": "formal-northern",
   "metadata": {
    "papermill": {
     "duration": 0.086537,
     "end_time": "2021-06-22T20:59:52.920761",
     "exception": false,
     "start_time": "2021-06-22T20:59:52.834224",
     "status": "completed"
    },
    "tags": []
   },
   "source": [
    "### Q2. Understanding Type of Data "
   ]
  },
  {
   "cell_type": "code",
   "execution_count": 16,
   "id": "smart-purchase",
   "metadata": {
    "execution": {
     "iopub.execute_input": "2021-06-22T20:59:53.112528Z",
     "iopub.status.busy": "2021-06-22T20:59:53.111202Z",
     "iopub.status.idle": "2021-06-22T20:59:53.116215Z",
     "shell.execute_reply": "2021-06-22T20:59:53.117082Z",
     "shell.execute_reply.started": "2021-06-22T20:45:26.094391Z"
    },
    "papermill": {
     "duration": 0.110429,
     "end_time": "2021-06-22T20:59:53.117338",
     "exception": false,
     "start_time": "2021-06-22T20:59:53.006909",
     "status": "completed"
    },
    "tags": []
   },
   "outputs": [
    {
     "name": "stdout",
     "output_type": "stream",
     "text": [
      "<class 'pandas.core.frame.DataFrame'>\n",
      "RangeIndex: 9557 entries, 0 to 9556\n",
      "Columns: 143 entries, Id to Target\n",
      "dtypes: float64(8), int64(130), object(5)\n",
      "memory usage: 10.4+ MB\n"
     ]
    }
   ],
   "source": [
    "train.info()"
   ]
  },
  {
   "cell_type": "markdown",
   "id": "continental-population",
   "metadata": {
    "papermill": {
     "duration": 0.084843,
     "end_time": "2021-06-22T20:59:53.288488",
     "exception": false,
     "start_time": "2021-06-22T20:59:53.203645",
     "status": "completed"
    },
    "tags": []
   },
   "source": [
    "### We have three datatypes here : float64(8), int64(130), object(5)\n"
   ]
  },
  {
   "cell_type": "code",
   "execution_count": 17,
   "id": "durable-hawaiian",
   "metadata": {
    "execution": {
     "iopub.execute_input": "2021-06-22T20:59:53.472450Z",
     "iopub.status.busy": "2021-06-22T20:59:53.471714Z",
     "iopub.status.idle": "2021-06-22T20:59:53.497744Z",
     "shell.execute_reply": "2021-06-22T20:59:53.498243Z",
     "shell.execute_reply.started": "2021-06-22T20:45:26.112510Z"
    },
    "papermill": {
     "duration": 0.124124,
     "end_time": "2021-06-22T20:59:53.498497",
     "exception": false,
     "start_time": "2021-06-22T20:59:53.374373",
     "status": "completed"
    },
    "tags": []
   },
   "outputs": [
    {
     "data": {
      "text/plain": [
       "Series([], dtype: int64)"
      ]
     },
     "execution_count": 17,
     "metadata": {},
     "output_type": "execute_result"
    }
   ],
   "source": [
    "null_counts = train.select_dtypes('int64').isnull().sum()\n",
    "null_counts[null_counts > 0]"
   ]
  },
  {
   "cell_type": "code",
   "execution_count": 18,
   "id": "conservative-alabama",
   "metadata": {
    "execution": {
     "iopub.execute_input": "2021-06-22T20:59:53.682438Z",
     "iopub.status.busy": "2021-06-22T20:59:53.681368Z",
     "iopub.status.idle": "2021-06-22T20:59:53.689930Z",
     "shell.execute_reply": "2021-06-22T20:59:53.690480Z",
     "shell.execute_reply.started": "2021-06-22T20:45:26.130238Z"
    },
    "papermill": {
     "duration": 0.102297,
     "end_time": "2021-06-22T20:59:53.690716",
     "exception": false,
     "start_time": "2021-06-22T20:59:53.588419",
     "status": "completed"
    },
    "tags": []
   },
   "outputs": [
    {
     "data": {
      "text/plain": [
       "v2a1         6860\n",
       "v18q1        7342\n",
       "rez_esc      7928\n",
       "meaneduc        5\n",
       "SQBmeaned       5\n",
       "dtype: int64"
      ]
     },
     "execution_count": 18,
     "metadata": {},
     "output_type": "execute_result"
    }
   ],
   "source": [
    "null_counts = train.select_dtypes('float64').isnull().sum()\n",
    "null_counts[null_counts > 0]"
   ]
  },
  {
   "cell_type": "code",
   "execution_count": 19,
   "id": "strange-saudi",
   "metadata": {
    "execution": {
     "iopub.execute_input": "2021-06-22T20:59:53.880286Z",
     "iopub.status.busy": "2021-06-22T20:59:53.873903Z",
     "iopub.status.idle": "2021-06-22T20:59:53.889921Z",
     "shell.execute_reply": "2021-06-22T20:59:53.890414Z",
     "shell.execute_reply.started": "2021-06-22T20:45:26.146371Z"
    },
    "papermill": {
     "duration": 0.111924,
     "end_time": "2021-06-22T20:59:53.890625",
     "exception": false,
     "start_time": "2021-06-22T20:59:53.778701",
     "status": "completed"
    },
    "tags": []
   },
   "outputs": [
    {
     "data": {
      "text/plain": [
       "Series([], dtype: int64)"
      ]
     },
     "execution_count": 19,
     "metadata": {},
     "output_type": "execute_result"
    }
   ],
   "source": [
    "null_counts = train.select_dtypes('object').isnull().sum()\n",
    "null_counts[null_counts > 0]"
   ]
  },
  {
   "cell_type": "markdown",
   "id": "injured-brake",
   "metadata": {
    "papermill": {
     "duration": 0.087405,
     "end_time": "2021-06-22T20:59:54.065724",
     "exception": false,
     "start_time": "2021-06-22T20:59:53.978319",
     "status": "completed"
    },
    "tags": []
   },
   "source": [
    "So We dont have null values in int and object data types .\n"
   ]
  },
  {
   "cell_type": "code",
   "execution_count": 20,
   "id": "stupid-faculty",
   "metadata": {
    "execution": {
     "iopub.execute_input": "2021-06-22T20:59:54.264268Z",
     "iopub.status.busy": "2021-06-22T20:59:54.263365Z",
     "iopub.status.idle": "2021-06-22T20:59:54.268834Z",
     "shell.execute_reply": "2021-06-22T20:59:54.268269Z",
     "shell.execute_reply.started": "2021-06-22T20:45:26.166872Z"
    },
    "papermill": {
     "duration": 0.112921,
     "end_time": "2021-06-22T20:59:54.268989",
     "exception": false,
     "start_time": "2021-06-22T20:59:54.156068",
     "status": "completed"
    },
    "tags": []
   },
   "outputs": [
    {
     "data": {
      "text/html": [
       "<div>\n",
       "<style scoped>\n",
       "    .dataframe tbody tr th:only-of-type {\n",
       "        vertical-align: middle;\n",
       "    }\n",
       "\n",
       "    .dataframe tbody tr th {\n",
       "        vertical-align: top;\n",
       "    }\n",
       "\n",
       "    .dataframe thead th {\n",
       "        text-align: right;\n",
       "    }\n",
       "</style>\n",
       "<table border=\"1\" class=\"dataframe\">\n",
       "  <thead>\n",
       "    <tr style=\"text-align: right;\">\n",
       "      <th></th>\n",
       "      <th>v2a1</th>\n",
       "      <th>v18q1</th>\n",
       "      <th>rez_esc</th>\n",
       "      <th>meaneduc</th>\n",
       "      <th>overcrowding</th>\n",
       "      <th>SQBovercrowding</th>\n",
       "      <th>SQBdependency</th>\n",
       "      <th>SQBmeaned</th>\n",
       "    </tr>\n",
       "  </thead>\n",
       "  <tbody>\n",
       "    <tr>\n",
       "      <th>0</th>\n",
       "      <td>190000.0</td>\n",
       "      <td>NaN</td>\n",
       "      <td>NaN</td>\n",
       "      <td>10.0</td>\n",
       "      <td>1.000000</td>\n",
       "      <td>1.000000</td>\n",
       "      <td>0.0</td>\n",
       "      <td>100.0</td>\n",
       "    </tr>\n",
       "    <tr>\n",
       "      <th>1</th>\n",
       "      <td>135000.0</td>\n",
       "      <td>1.0</td>\n",
       "      <td>NaN</td>\n",
       "      <td>12.0</td>\n",
       "      <td>1.000000</td>\n",
       "      <td>1.000000</td>\n",
       "      <td>64.0</td>\n",
       "      <td>144.0</td>\n",
       "    </tr>\n",
       "    <tr>\n",
       "      <th>2</th>\n",
       "      <td>NaN</td>\n",
       "      <td>NaN</td>\n",
       "      <td>NaN</td>\n",
       "      <td>11.0</td>\n",
       "      <td>0.500000</td>\n",
       "      <td>0.250000</td>\n",
       "      <td>64.0</td>\n",
       "      <td>121.0</td>\n",
       "    </tr>\n",
       "    <tr>\n",
       "      <th>3</th>\n",
       "      <td>180000.0</td>\n",
       "      <td>1.0</td>\n",
       "      <td>1.0</td>\n",
       "      <td>11.0</td>\n",
       "      <td>1.333333</td>\n",
       "      <td>1.777778</td>\n",
       "      <td>1.0</td>\n",
       "      <td>121.0</td>\n",
       "    </tr>\n",
       "    <tr>\n",
       "      <th>4</th>\n",
       "      <td>180000.0</td>\n",
       "      <td>1.0</td>\n",
       "      <td>NaN</td>\n",
       "      <td>11.0</td>\n",
       "      <td>1.333333</td>\n",
       "      <td>1.777778</td>\n",
       "      <td>1.0</td>\n",
       "      <td>121.0</td>\n",
       "    </tr>\n",
       "  </tbody>\n",
       "</table>\n",
       "</div>"
      ],
      "text/plain": [
       "       v2a1  v18q1  rez_esc  meaneduc  overcrowding  SQBovercrowding  \\\n",
       "0  190000.0    NaN      NaN      10.0      1.000000         1.000000   \n",
       "1  135000.0    1.0      NaN      12.0      1.000000         1.000000   \n",
       "2       NaN    NaN      NaN      11.0      0.500000         0.250000   \n",
       "3  180000.0    1.0      1.0      11.0      1.333333         1.777778   \n",
       "4  180000.0    1.0      NaN      11.0      1.333333         1.777778   \n",
       "\n",
       "   SQBdependency  SQBmeaned  \n",
       "0            0.0      100.0  \n",
       "1           64.0      144.0  \n",
       "2           64.0      121.0  \n",
       "3            1.0      121.0  \n",
       "4            1.0      121.0  "
      ]
     },
     "execution_count": 20,
     "metadata": {},
     "output_type": "execute_result"
    }
   ],
   "source": [
    "float_df = train.select_dtypes(include=['float64'])\n",
    "float_df.head()"
   ]
  },
  {
   "cell_type": "markdown",
   "id": "european-radical",
   "metadata": {
    "papermill": {
     "duration": 0.087223,
     "end_time": "2021-06-22T20:59:54.443379",
     "exception": false,
     "start_time": "2021-06-22T20:59:54.356156",
     "status": "completed"
    },
    "tags": []
   },
   "source": [
    "### Float type Column Description:\n",
    "\n",
    "'v2a1': Monthly rent payment\n",
    "\n",
    "*'v18q1': Number of tablets household owns\n",
    "\n",
    "*'rez_esc': Years behind in school\n",
    "\n",
    "*'meaneduc': Average years of education for adults (18+)\n",
    "\n",
    "*'overcrowding': # persons per room\n",
    "\n",
    "*'SQBovercrowding': overcrowding squared\n",
    "\n",
    "*'SQBdependency': dependency squared\n",
    "\n",
    "*'SQBmeaned': square of the mean years of education of adults (>=18) in the household"
   ]
  },
  {
   "cell_type": "code",
   "execution_count": 21,
   "id": "union-excitement",
   "metadata": {
    "execution": {
     "iopub.execute_input": "2021-06-22T20:59:54.631301Z",
     "iopub.status.busy": "2021-06-22T20:59:54.627176Z",
     "iopub.status.idle": "2021-06-22T20:59:54.638330Z",
     "shell.execute_reply": "2021-06-22T20:59:54.637764Z",
     "shell.execute_reply.started": "2021-06-22T20:45:26.189911Z"
    },
    "papermill": {
     "duration": 0.10774,
     "end_time": "2021-06-22T20:59:54.638493",
     "exception": false,
     "start_time": "2021-06-22T20:59:54.530753",
     "status": "completed"
    },
    "tags": []
   },
   "outputs": [
    {
     "data": {
      "text/html": [
       "<div>\n",
       "<style scoped>\n",
       "    .dataframe tbody tr th:only-of-type {\n",
       "        vertical-align: middle;\n",
       "    }\n",
       "\n",
       "    .dataframe tbody tr th {\n",
       "        vertical-align: top;\n",
       "    }\n",
       "\n",
       "    .dataframe thead th {\n",
       "        text-align: right;\n",
       "    }\n",
       "</style>\n",
       "<table border=\"1\" class=\"dataframe\">\n",
       "  <thead>\n",
       "    <tr style=\"text-align: right;\">\n",
       "      <th></th>\n",
       "      <th>Id</th>\n",
       "      <th>idhogar</th>\n",
       "      <th>dependency</th>\n",
       "      <th>edjefe</th>\n",
       "      <th>edjefa</th>\n",
       "    </tr>\n",
       "  </thead>\n",
       "  <tbody>\n",
       "    <tr>\n",
       "      <th>0</th>\n",
       "      <td>ID_279628684</td>\n",
       "      <td>21eb7fcc1</td>\n",
       "      <td>no</td>\n",
       "      <td>10</td>\n",
       "      <td>no</td>\n",
       "    </tr>\n",
       "    <tr>\n",
       "      <th>1</th>\n",
       "      <td>ID_f29eb3ddd</td>\n",
       "      <td>0e5d7a658</td>\n",
       "      <td>8</td>\n",
       "      <td>12</td>\n",
       "      <td>no</td>\n",
       "    </tr>\n",
       "    <tr>\n",
       "      <th>2</th>\n",
       "      <td>ID_68de51c94</td>\n",
       "      <td>2c7317ea8</td>\n",
       "      <td>8</td>\n",
       "      <td>no</td>\n",
       "      <td>11</td>\n",
       "    </tr>\n",
       "    <tr>\n",
       "      <th>3</th>\n",
       "      <td>ID_d671db89c</td>\n",
       "      <td>2b58d945f</td>\n",
       "      <td>yes</td>\n",
       "      <td>11</td>\n",
       "      <td>no</td>\n",
       "    </tr>\n",
       "    <tr>\n",
       "      <th>4</th>\n",
       "      <td>ID_d56d6f5f5</td>\n",
       "      <td>2b58d945f</td>\n",
       "      <td>yes</td>\n",
       "      <td>11</td>\n",
       "      <td>no</td>\n",
       "    </tr>\n",
       "  </tbody>\n",
       "</table>\n",
       "</div>"
      ],
      "text/plain": [
       "             Id    idhogar dependency edjefe edjefa\n",
       "0  ID_279628684  21eb7fcc1         no     10     no\n",
       "1  ID_f29eb3ddd  0e5d7a658          8     12     no\n",
       "2  ID_68de51c94  2c7317ea8          8     no     11\n",
       "3  ID_d671db89c  2b58d945f        yes     11     no\n",
       "4  ID_d56d6f5f5  2b58d945f        yes     11     no"
      ]
     },
     "execution_count": 21,
     "metadata": {},
     "output_type": "execute_result"
    }
   ],
   "source": [
    "object_df = train.select_dtypes(include=['object'])\n",
    "object_df.head()"
   ]
  },
  {
   "cell_type": "markdown",
   "id": "abandoned-enclosure",
   "metadata": {
    "papermill": {
     "duration": 0.091244,
     "end_time": "2021-06-22T20:59:54.820581",
     "exception": false,
     "start_time": "2021-06-22T20:59:54.729337",
     "status": "completed"
    },
    "tags": []
   },
   "source": [
    "Object Type column Decription\n",
    "\n",
    "'dependency': (number of members of the household younger than 19 or older than 64)/(number of member of household between 19 and 64)\n",
    "\n",
    "*'edjefe': years of education of male head of household, based on the interaction of escolari (years of education), head of household and gender, yes=1 and no=0\n",
    "\n",
    "*'edjefa': years of education of female head of household, based on the interaction of escolari (years of education), head of household and gender, yes=1 and no=0\n",
    "\n",
    "*'Id': This column identifies each individual uniquely\n",
    "\n",
    "*'idhogar': This column identifies each household uniquely and this will be used for analysis based on household level"
   ]
  },
  {
   "cell_type": "code",
   "execution_count": 22,
   "id": "usual-interference",
   "metadata": {
    "execution": {
     "iopub.execute_input": "2021-06-22T20:59:55.025707Z",
     "iopub.status.busy": "2021-06-22T20:59:55.012662Z",
     "iopub.status.idle": "2021-06-22T20:59:55.031305Z",
     "shell.execute_reply": "2021-06-22T20:59:55.030649Z",
     "shell.execute_reply.started": "2021-06-22T20:45:26.208483Z"
    },
    "papermill": {
     "duration": 0.123709,
     "end_time": "2021-06-22T20:59:55.031449",
     "exception": false,
     "start_time": "2021-06-22T20:59:54.907740",
     "status": "completed"
    },
    "tags": []
   },
   "outputs": [
    {
     "data": {
      "text/html": [
       "<div>\n",
       "<style scoped>\n",
       "    .dataframe tbody tr th:only-of-type {\n",
       "        vertical-align: middle;\n",
       "    }\n",
       "\n",
       "    .dataframe tbody tr th {\n",
       "        vertical-align: top;\n",
       "    }\n",
       "\n",
       "    .dataframe thead th {\n",
       "        text-align: right;\n",
       "    }\n",
       "</style>\n",
       "<table border=\"1\" class=\"dataframe\">\n",
       "  <thead>\n",
       "    <tr style=\"text-align: right;\">\n",
       "      <th></th>\n",
       "      <th>hacdor</th>\n",
       "      <th>rooms</th>\n",
       "      <th>hacapo</th>\n",
       "      <th>v14a</th>\n",
       "      <th>refrig</th>\n",
       "      <th>v18q</th>\n",
       "      <th>r4h1</th>\n",
       "      <th>r4h2</th>\n",
       "      <th>r4h3</th>\n",
       "      <th>r4m1</th>\n",
       "      <th>...</th>\n",
       "      <th>area1</th>\n",
       "      <th>area2</th>\n",
       "      <th>age</th>\n",
       "      <th>SQBescolari</th>\n",
       "      <th>SQBage</th>\n",
       "      <th>SQBhogar_total</th>\n",
       "      <th>SQBedjefe</th>\n",
       "      <th>SQBhogar_nin</th>\n",
       "      <th>agesq</th>\n",
       "      <th>Target</th>\n",
       "    </tr>\n",
       "  </thead>\n",
       "  <tbody>\n",
       "    <tr>\n",
       "      <th>0</th>\n",
       "      <td>0</td>\n",
       "      <td>3</td>\n",
       "      <td>0</td>\n",
       "      <td>1</td>\n",
       "      <td>1</td>\n",
       "      <td>0</td>\n",
       "      <td>0</td>\n",
       "      <td>1</td>\n",
       "      <td>1</td>\n",
       "      <td>0</td>\n",
       "      <td>...</td>\n",
       "      <td>1</td>\n",
       "      <td>0</td>\n",
       "      <td>43</td>\n",
       "      <td>100</td>\n",
       "      <td>1849</td>\n",
       "      <td>1</td>\n",
       "      <td>100</td>\n",
       "      <td>0</td>\n",
       "      <td>1849</td>\n",
       "      <td>4</td>\n",
       "    </tr>\n",
       "    <tr>\n",
       "      <th>1</th>\n",
       "      <td>0</td>\n",
       "      <td>4</td>\n",
       "      <td>0</td>\n",
       "      <td>1</td>\n",
       "      <td>1</td>\n",
       "      <td>1</td>\n",
       "      <td>0</td>\n",
       "      <td>1</td>\n",
       "      <td>1</td>\n",
       "      <td>0</td>\n",
       "      <td>...</td>\n",
       "      <td>1</td>\n",
       "      <td>0</td>\n",
       "      <td>67</td>\n",
       "      <td>144</td>\n",
       "      <td>4489</td>\n",
       "      <td>1</td>\n",
       "      <td>144</td>\n",
       "      <td>0</td>\n",
       "      <td>4489</td>\n",
       "      <td>4</td>\n",
       "    </tr>\n",
       "    <tr>\n",
       "      <th>2</th>\n",
       "      <td>0</td>\n",
       "      <td>8</td>\n",
       "      <td>0</td>\n",
       "      <td>1</td>\n",
       "      <td>1</td>\n",
       "      <td>0</td>\n",
       "      <td>0</td>\n",
       "      <td>0</td>\n",
       "      <td>0</td>\n",
       "      <td>0</td>\n",
       "      <td>...</td>\n",
       "      <td>1</td>\n",
       "      <td>0</td>\n",
       "      <td>92</td>\n",
       "      <td>121</td>\n",
       "      <td>8464</td>\n",
       "      <td>1</td>\n",
       "      <td>0</td>\n",
       "      <td>0</td>\n",
       "      <td>8464</td>\n",
       "      <td>4</td>\n",
       "    </tr>\n",
       "    <tr>\n",
       "      <th>3</th>\n",
       "      <td>0</td>\n",
       "      <td>5</td>\n",
       "      <td>0</td>\n",
       "      <td>1</td>\n",
       "      <td>1</td>\n",
       "      <td>1</td>\n",
       "      <td>0</td>\n",
       "      <td>2</td>\n",
       "      <td>2</td>\n",
       "      <td>1</td>\n",
       "      <td>...</td>\n",
       "      <td>1</td>\n",
       "      <td>0</td>\n",
       "      <td>17</td>\n",
       "      <td>81</td>\n",
       "      <td>289</td>\n",
       "      <td>16</td>\n",
       "      <td>121</td>\n",
       "      <td>4</td>\n",
       "      <td>289</td>\n",
       "      <td>4</td>\n",
       "    </tr>\n",
       "    <tr>\n",
       "      <th>4</th>\n",
       "      <td>0</td>\n",
       "      <td>5</td>\n",
       "      <td>0</td>\n",
       "      <td>1</td>\n",
       "      <td>1</td>\n",
       "      <td>1</td>\n",
       "      <td>0</td>\n",
       "      <td>2</td>\n",
       "      <td>2</td>\n",
       "      <td>1</td>\n",
       "      <td>...</td>\n",
       "      <td>1</td>\n",
       "      <td>0</td>\n",
       "      <td>37</td>\n",
       "      <td>121</td>\n",
       "      <td>1369</td>\n",
       "      <td>16</td>\n",
       "      <td>121</td>\n",
       "      <td>4</td>\n",
       "      <td>1369</td>\n",
       "      <td>4</td>\n",
       "    </tr>\n",
       "  </tbody>\n",
       "</table>\n",
       "<p>5 rows × 130 columns</p>\n",
       "</div>"
      ],
      "text/plain": [
       "   hacdor  rooms  hacapo  v14a  refrig  v18q  r4h1  r4h2  r4h3  r4m1  ...  \\\n",
       "0       0      3       0     1       1     0     0     1     1     0  ...   \n",
       "1       0      4       0     1       1     1     0     1     1     0  ...   \n",
       "2       0      8       0     1       1     0     0     0     0     0  ...   \n",
       "3       0      5       0     1       1     1     0     2     2     1  ...   \n",
       "4       0      5       0     1       1     1     0     2     2     1  ...   \n",
       "\n",
       "   area1  area2  age  SQBescolari  SQBage  SQBhogar_total  SQBedjefe  \\\n",
       "0      1      0   43          100    1849               1        100   \n",
       "1      1      0   67          144    4489               1        144   \n",
       "2      1      0   92          121    8464               1          0   \n",
       "3      1      0   17           81     289              16        121   \n",
       "4      1      0   37          121    1369              16        121   \n",
       "\n",
       "   SQBhogar_nin  agesq  Target  \n",
       "0             0   1849       4  \n",
       "1             0   4489       4  \n",
       "2             0   8464       4  \n",
       "3             4    289       4  \n",
       "4             4   1369       4  \n",
       "\n",
       "[5 rows x 130 columns]"
      ]
     },
     "execution_count": 22,
     "metadata": {},
     "output_type": "execute_result"
    }
   ],
   "source": [
    "int_df = train.select_dtypes(include=['int'])\n",
    "int_df.head()"
   ]
  },
  {
   "cell_type": "markdown",
   "id": "cooked-class",
   "metadata": {
    "papermill": {
     "duration": 0.094199,
     "end_time": "2021-06-22T20:59:55.212392",
     "exception": false,
     "start_time": "2021-06-22T20:59:55.118193",
     "status": "completed"
    },
    "tags": []
   },
   "source": [
    "### Q3. Check for biases in the dataset "
   ]
  },
  {
   "cell_type": "markdown",
   "id": "patent-inflation",
   "metadata": {
    "papermill": {
     "duration": 0.087948,
     "end_time": "2021-06-22T20:59:55.388795",
     "exception": false,
     "start_time": "2021-06-22T20:59:55.300847",
     "status": "completed"
    },
    "tags": []
   },
   "source": [
    " So we need to find those people who are poverty stricken.\n",
    " and we know that our target variable has 4 classes which are :\n",
    " \n",
    "1. extreme poor people       = 755 \n",
    "2. moderate poverty          = 1597\n",
    "3. vulnerable households     = 1209\n",
    "4. non vulnerable households = 5996 "
   ]
  },
  {
   "cell_type": "code",
   "execution_count": 23,
   "id": "variable-florida",
   "metadata": {
    "execution": {
     "iopub.execute_input": "2021-06-22T20:59:55.578670Z",
     "iopub.status.busy": "2021-06-22T20:59:55.577931Z",
     "iopub.status.idle": "2021-06-22T20:59:55.812678Z",
     "shell.execute_reply": "2021-06-22T20:59:55.812005Z",
     "shell.execute_reply.started": "2021-06-22T20:45:26.234714Z"
    },
    "papermill": {
     "duration": 0.333392,
     "end_time": "2021-06-22T20:59:55.812835",
     "exception": false,
     "start_time": "2021-06-22T20:59:55.479443",
     "status": "completed"
    },
    "tags": []
   },
   "outputs": [
    {
     "data": {
      "text/plain": [
       "array([[<AxesSubplot:title={'center':'Target'}>]], dtype=object)"
      ]
     },
     "execution_count": 23,
     "metadata": {},
     "output_type": "execute_result"
    },
    {
     "data": {
      "image/png": "[encoded data removed]",
      "text/plain": [
       "<Figure size 432x288 with 1 Axes>"
      ]
     },
     "metadata": {
      "needs_background": "light"
     },
     "output_type": "display_data"
    }
   ],
   "source": [
    "train.hist(column='Target',grid = False)"
   ]
  },
  {
   "cell_type": "markdown",
   "id": "featured-studio",
   "metadata": {
    "papermill": {
     "duration": 0.092302,
     "end_time": "2021-06-22T20:59:55.995762",
     "exception": false,
     "start_time": "2021-06-22T20:59:55.903460",
     "status": "completed"
    },
    "tags": []
   },
   "source": [
    "### As we can see we have class imbalanced dataset , there is bias in this dataset as no. of people who are extremely poor are lower in number."
   ]
  },
  {
   "cell_type": "code",
   "execution_count": 24,
   "id": "impressive-official",
   "metadata": {
    "execution": {
     "iopub.execute_input": "2021-06-22T20:59:56.181419Z",
     "iopub.status.busy": "2021-06-22T20:59:56.180707Z",
     "iopub.status.idle": "2021-06-22T20:59:56.184206Z",
     "shell.execute_reply": "2021-06-22T20:59:56.183622Z",
     "shell.execute_reply.started": "2021-06-22T20:45:26.478978Z"
    },
    "papermill": {
     "duration": 0.09862,
     "end_time": "2021-06-22T20:59:56.184379",
     "exception": false,
     "start_time": "2021-06-22T20:59:56.085759",
     "status": "completed"
    },
    "tags": []
   },
   "outputs": [],
   "source": [
    "# so we need to balance this dataset before moving further ahead \n",
    "\n",
    "# We can put the class 1 and class 2 as people who should get aid from the institutions, so we are defining new class labels here \n",
    "\n",
    "# wherein we will make this a binary classification problem : \n",
    "\n",
    "# ### class 1 : qualified for aid(old class 1 and 2 )\n",
    "\n",
    "# ### class 0 : not qualified for aid(old class 3 and 4)b"
   ]
  },
  {
   "cell_type": "markdown",
   "id": "nonprofit-domestic",
   "metadata": {
    "papermill": {
     "duration": 0.0886,
     "end_time": "2021-06-22T20:59:56.364674",
     "exception": false,
     "start_time": "2021-06-22T20:59:56.276074",
     "status": "completed"
    },
    "tags": []
   },
   "source": [
    "### Q4.Check whether all members of the house have the same poverty level."
   ]
  },
  {
   "cell_type": "code",
   "execution_count": 25,
   "id": "marine-abuse",
   "metadata": {
    "execution": {
     "iopub.execute_input": "2021-06-22T20:59:56.555787Z",
     "iopub.status.busy": "2021-06-22T20:59:56.552377Z",
     "iopub.status.idle": "2021-06-22T20:59:56.560128Z",
     "shell.execute_reply": "2021-06-22T20:59:56.560657Z",
     "shell.execute_reply.started": "2021-06-22T20:45:26.485212Z"
    },
    "papermill": {
     "duration": 0.108003,
     "end_time": "2021-06-22T20:59:56.560851",
     "exception": false,
     "start_time": "2021-06-22T20:59:56.452848",
     "status": "completed"
    },
    "tags": []
   },
   "outputs": [
    {
     "data": {
      "text/plain": [
       "fd8a6d014    13\n",
       "ae6cf0558    12\n",
       "0c7436de6    12\n",
       "6b35cdcf0    11\n",
       "b7a0b59d7    11\n",
       "             ..\n",
       "4d6c3f4af     1\n",
       "8161a5155     1\n",
       "9d05282ce     1\n",
       "0b766595d     1\n",
       "fd89cbc8b     1\n",
       "Name: idhogar, Length: 2988, dtype: int64"
      ]
     },
     "execution_count": 25,
     "metadata": {},
     "output_type": "execute_result"
    }
   ],
   "source": [
    "train['idhogar'].value_counts()"
   ]
  },
  {
   "cell_type": "code",
   "execution_count": 26,
   "id": "industrial-tampa",
   "metadata": {
    "execution": {
     "iopub.execute_input": "2021-06-22T20:59:56.754441Z",
     "iopub.status.busy": "2021-06-22T20:59:56.753719Z",
     "iopub.status.idle": "2021-06-22T20:59:56.765972Z",
     "shell.execute_reply": "2021-06-22T20:59:56.765341Z",
     "shell.execute_reply.started": "2021-06-22T20:45:26.504516Z"
    },
    "papermill": {
     "duration": 0.1137,
     "end_time": "2021-06-22T20:59:56.766116",
     "exception": false,
     "start_time": "2021-06-22T20:59:56.652416",
     "status": "completed"
    },
    "tags": []
   },
   "outputs": [
    {
     "data": {
      "text/html": [
       "<div>\n",
       "<style scoped>\n",
       "    .dataframe tbody tr th:only-of-type {\n",
       "        vertical-align: middle;\n",
       "    }\n",
       "\n",
       "    .dataframe tbody tr th {\n",
       "        vertical-align: top;\n",
       "    }\n",
       "\n",
       "    .dataframe thead th {\n",
       "        text-align: right;\n",
       "    }\n",
       "</style>\n",
       "<table border=\"1\" class=\"dataframe\">\n",
       "  <thead>\n",
       "    <tr style=\"text-align: right;\">\n",
       "      <th></th>\n",
       "      <th>idhogar</th>\n",
       "      <th>MemberCount</th>\n",
       "    </tr>\n",
       "  </thead>\n",
       "  <tbody>\n",
       "    <tr>\n",
       "      <th>0</th>\n",
       "      <td>fd8a6d014</td>\n",
       "      <td>13</td>\n",
       "    </tr>\n",
       "    <tr>\n",
       "      <th>1</th>\n",
       "      <td>ae6cf0558</td>\n",
       "      <td>12</td>\n",
       "    </tr>\n",
       "    <tr>\n",
       "      <th>2</th>\n",
       "      <td>0c7436de6</td>\n",
       "      <td>12</td>\n",
       "    </tr>\n",
       "    <tr>\n",
       "      <th>3</th>\n",
       "      <td>6b35cdcf0</td>\n",
       "      <td>11</td>\n",
       "    </tr>\n",
       "    <tr>\n",
       "      <th>4</th>\n",
       "      <td>b7a0b59d7</td>\n",
       "      <td>11</td>\n",
       "    </tr>\n",
       "  </tbody>\n",
       "</table>\n",
       "</div>"
      ],
      "text/plain": [
       "     idhogar  MemberCount\n",
       "0  fd8a6d014           13\n",
       "1  ae6cf0558           12\n",
       "2  0c7436de6           12\n",
       "3  6b35cdcf0           11\n",
       "4  b7a0b59d7           11"
      ]
     },
     "execution_count": 26,
     "metadata": {},
     "output_type": "execute_result"
    }
   ],
   "source": [
    "# count of members in each household\n",
    "household = train['idhogar'].value_counts()\n",
    "household = household.rename_axis('idhogar').reset_index(name='MemberCount')\n",
    "household.head()"
   ]
  },
  {
   "cell_type": "code",
   "execution_count": 27,
   "id": "french-update",
   "metadata": {
    "execution": {
     "iopub.execute_input": "2021-06-22T20:59:56.954985Z",
     "iopub.status.busy": "2021-06-22T20:59:56.954025Z",
     "iopub.status.idle": "2021-06-22T20:59:56.959018Z",
     "shell.execute_reply": "2021-06-22T20:59:56.958489Z",
     "shell.execute_reply.started": "2021-06-22T20:45:26.527571Z"
    },
    "papermill": {
     "duration": 0.102592,
     "end_time": "2021-06-22T20:59:56.959162",
     "exception": false,
     "start_time": "2021-06-22T20:59:56.856570",
     "status": "completed"
    },
    "tags": []
   },
   "outputs": [
    {
     "data": {
      "text/plain": [
       "pandas.core.frame.DataFrame"
      ]
     },
     "execution_count": 27,
     "metadata": {},
     "output_type": "execute_result"
    }
   ],
   "source": [
    "type(household)"
   ]
  },
  {
   "cell_type": "code",
   "execution_count": 28,
   "id": "residential-modem",
   "metadata": {
    "execution": {
     "iopub.execute_input": "2021-06-22T20:59:57.154185Z",
     "iopub.status.busy": "2021-06-22T20:59:57.153497Z",
     "iopub.status.idle": "2021-06-22T20:59:57.157613Z",
     "shell.execute_reply": "2021-06-22T20:59:57.156930Z",
     "shell.execute_reply.started": "2021-06-22T20:45:26.538110Z"
    },
    "papermill": {
     "duration": 0.104953,
     "end_time": "2021-06-22T20:59:57.157777",
     "exception": false,
     "start_time": "2021-06-22T20:59:57.052824",
     "status": "completed"
    },
    "tags": []
   },
   "outputs": [
    {
     "data": {
      "text/plain": [
       "0    6584\n",
       "1    2973\n",
       "Name: parentesco1, dtype: int64"
      ]
     },
     "execution_count": 28,
     "metadata": {},
     "output_type": "execute_result"
    }
   ],
   "source": [
    "fam_head = train['parentesco1'].value_counts()\n",
    "fam_head.head()"
   ]
  },
  {
   "cell_type": "code",
   "execution_count": 29,
   "id": "manufactured-struggle",
   "metadata": {
    "execution": {
     "iopub.execute_input": "2021-06-22T20:59:57.344080Z",
     "iopub.status.busy": "2021-06-22T20:59:57.343452Z",
     "iopub.status.idle": "2021-06-22T20:59:57.910637Z",
     "shell.execute_reply": "2021-06-22T20:59:57.909968Z",
     "shell.execute_reply.started": "2021-06-22T20:45:26.551923Z"
    },
    "papermill": {
     "duration": 0.661521,
     "end_time": "2021-06-22T20:59:57.910806",
     "exception": false,
     "start_time": "2021-06-22T20:59:57.249285",
     "status": "completed"
    },
    "tags": []
   },
   "outputs": [
    {
     "data": {
      "text/html": [
       "<div>\n",
       "<style scoped>\n",
       "    .dataframe tbody tr th:only-of-type {\n",
       "        vertical-align: middle;\n",
       "    }\n",
       "\n",
       "    .dataframe tbody tr th {\n",
       "        vertical-align: top;\n",
       "    }\n",
       "\n",
       "    .dataframe thead th {\n",
       "        text-align: right;\n",
       "    }\n",
       "</style>\n",
       "<table border=\"1\" class=\"dataframe\">\n",
       "  <thead>\n",
       "    <tr style=\"text-align: right;\">\n",
       "      <th></th>\n",
       "      <th>idhogar</th>\n",
       "      <th>target</th>\n",
       "    </tr>\n",
       "  </thead>\n",
       "  <tbody>\n",
       "    <tr>\n",
       "      <th>0</th>\n",
       "      <td>001ff74ca</td>\n",
       "      <td>True</td>\n",
       "    </tr>\n",
       "    <tr>\n",
       "      <th>1</th>\n",
       "      <td>003123ec2</td>\n",
       "      <td>True</td>\n",
       "    </tr>\n",
       "    <tr>\n",
       "      <th>2</th>\n",
       "      <td>004616164</td>\n",
       "      <td>True</td>\n",
       "    </tr>\n",
       "    <tr>\n",
       "      <th>3</th>\n",
       "      <td>004983866</td>\n",
       "      <td>True</td>\n",
       "    </tr>\n",
       "    <tr>\n",
       "      <th>4</th>\n",
       "      <td>005905417</td>\n",
       "      <td>True</td>\n",
       "    </tr>\n",
       "    <tr>\n",
       "      <th>...</th>\n",
       "      <td>...</td>\n",
       "      <td>...</td>\n",
       "    </tr>\n",
       "    <tr>\n",
       "      <th>2983</th>\n",
       "      <td>ff9343a35</td>\n",
       "      <td>True</td>\n",
       "    </tr>\n",
       "    <tr>\n",
       "      <th>2984</th>\n",
       "      <td>ff9d5ab17</td>\n",
       "      <td>True</td>\n",
       "    </tr>\n",
       "    <tr>\n",
       "      <th>2985</th>\n",
       "      <td>ffae4a097</td>\n",
       "      <td>True</td>\n",
       "    </tr>\n",
       "    <tr>\n",
       "      <th>2986</th>\n",
       "      <td>ffe90d46f</td>\n",
       "      <td>True</td>\n",
       "    </tr>\n",
       "    <tr>\n",
       "      <th>2987</th>\n",
       "      <td>fff7d6be1</td>\n",
       "      <td>True</td>\n",
       "    </tr>\n",
       "  </tbody>\n",
       "</table>\n",
       "<p>2988 rows × 2 columns</p>\n",
       "</div>"
      ],
      "text/plain": [
       "        idhogar  target\n",
       "0     001ff74ca    True\n",
       "1     003123ec2    True\n",
       "2     004616164    True\n",
       "3     004983866    True\n",
       "4     005905417    True\n",
       "...         ...     ...\n",
       "2983  ff9343a35    True\n",
       "2984  ff9d5ab17    True\n",
       "2985  ffae4a097    True\n",
       "2986  ffe90d46f    True\n",
       "2987  fff7d6be1    True\n",
       "\n",
       "[2988 rows x 2 columns]"
      ]
     },
     "execution_count": 29,
     "metadata": {},
     "output_type": "execute_result"
    }
   ],
   "source": [
    "same_pov_household = train.groupby('idhogar')['Target'].apply(lambda x: x.nunique() == 1)\n",
    "same_pov_household.rename_axis('idhogar').reset_index(name='target')"
   ]
  },
  {
   "cell_type": "code",
   "execution_count": 30,
   "id": "dressed-denver",
   "metadata": {
    "execution": {
     "iopub.execute_input": "2021-06-22T20:59:58.099465Z",
     "iopub.status.busy": "2021-06-22T20:59:58.098789Z",
     "iopub.status.idle": "2021-06-22T20:59:58.105175Z",
     "shell.execute_reply": "2021-06-22T20:59:58.104652Z",
     "shell.execute_reply.started": "2021-06-22T20:45:27.192278Z"
    },
    "papermill": {
     "duration": 0.101128,
     "end_time": "2021-06-22T20:59:58.105371",
     "exception": false,
     "start_time": "2021-06-22T20:59:58.004243",
     "status": "completed"
    },
    "tags": []
   },
   "outputs": [
    {
     "name": "stdout",
     "output_type": "stream",
     "text": [
      "There are 85 households where all the members does not have unique target values\n"
     ]
    }
   ],
   "source": [
    "not_same_pov = same_pov_household[same_pov_household == False]\n",
    "print('There are {} households where all the members does not have unique target values'.format(len(not_same_pov)))"
   ]
  },
  {
   "cell_type": "code",
   "execution_count": 31,
   "id": "advance-horse",
   "metadata": {
    "execution": {
     "iopub.execute_input": "2021-06-22T20:59:58.312873Z",
     "iopub.status.busy": "2021-06-22T20:59:58.311929Z",
     "iopub.status.idle": "2021-06-22T20:59:58.315844Z",
     "shell.execute_reply": "2021-06-22T20:59:58.316332Z",
     "shell.execute_reply.started": "2021-06-22T20:45:27.202480Z"
    },
    "papermill": {
     "duration": 0.116399,
     "end_time": "2021-06-22T20:59:58.316540",
     "exception": false,
     "start_time": "2021-06-22T20:59:58.200141",
     "status": "completed"
    },
    "tags": []
   },
   "outputs": [
    {
     "data": {
      "text/html": [
       "<div>\n",
       "<style scoped>\n",
       "    .dataframe tbody tr th:only-of-type {\n",
       "        vertical-align: middle;\n",
       "    }\n",
       "\n",
       "    .dataframe tbody tr th {\n",
       "        vertical-align: top;\n",
       "    }\n",
       "\n",
       "    .dataframe thead th {\n",
       "        text-align: right;\n",
       "    }\n",
       "</style>\n",
       "<table border=\"1\" class=\"dataframe\">\n",
       "  <thead>\n",
       "    <tr style=\"text-align: right;\">\n",
       "      <th></th>\n",
       "      <th>idhogar</th>\n",
       "      <th>parentesco1</th>\n",
       "      <th>Target</th>\n",
       "    </tr>\n",
       "  </thead>\n",
       "  <tbody>\n",
       "    <tr>\n",
       "      <th>7651</th>\n",
       "      <td>0172ab1d9</td>\n",
       "      <td>0</td>\n",
       "      <td>3</td>\n",
       "    </tr>\n",
       "    <tr>\n",
       "      <th>7652</th>\n",
       "      <td>0172ab1d9</td>\n",
       "      <td>0</td>\n",
       "      <td>2</td>\n",
       "    </tr>\n",
       "    <tr>\n",
       "      <th>7653</th>\n",
       "      <td>0172ab1d9</td>\n",
       "      <td>0</td>\n",
       "      <td>3</td>\n",
       "    </tr>\n",
       "    <tr>\n",
       "      <th>7654</th>\n",
       "      <td>0172ab1d9</td>\n",
       "      <td>1</td>\n",
       "      <td>3</td>\n",
       "    </tr>\n",
       "    <tr>\n",
       "      <th>7655</th>\n",
       "      <td>0172ab1d9</td>\n",
       "      <td>0</td>\n",
       "      <td>2</td>\n",
       "    </tr>\n",
       "  </tbody>\n",
       "</table>\n",
       "</div>"
      ],
      "text/plain": [
       "        idhogar  parentesco1  Target\n",
       "7651  0172ab1d9            0       3\n",
       "7652  0172ab1d9            0       2\n",
       "7653  0172ab1d9            0       3\n",
       "7654  0172ab1d9            1       3\n",
       "7655  0172ab1d9            0       2"
      ]
     },
     "execution_count": 31,
     "metadata": {},
     "output_type": "execute_result"
    }
   ],
   "source": [
    "train[train['idhogar'] == not_same_pov.index[0]][['idhogar', 'parentesco1', 'Target']]"
   ]
  },
  {
   "cell_type": "code",
   "execution_count": 32,
   "id": "welsh-influence",
   "metadata": {
    "execution": {
     "iopub.execute_input": "2021-06-22T20:59:58.516940Z",
     "iopub.status.busy": "2021-06-22T20:59:58.516045Z",
     "iopub.status.idle": "2021-06-22T20:59:58.519542Z",
     "shell.execute_reply": "2021-06-22T20:59:58.520032Z",
     "shell.execute_reply.started": "2021-06-22T20:45:27.221860Z"
    },
    "papermill": {
     "duration": 0.106053,
     "end_time": "2021-06-22T20:59:58.520207",
     "exception": false,
     "start_time": "2021-06-22T20:59:58.414154",
     "status": "completed"
    },
    "tags": []
   },
   "outputs": [
    {
     "data": {
      "text/plain": [
       "pandas.core.series.Series"
      ]
     },
     "execution_count": 32,
     "metadata": {},
     "output_type": "execute_result"
    }
   ],
   "source": [
    "type(not_same_pov)"
   ]
  },
  {
   "cell_type": "markdown",
   "id": "consistent-harmony",
   "metadata": {
    "execution": {
     "iopub.execute_input": "2021-06-16T13:53:54.711751Z",
     "iopub.status.busy": "2021-06-16T13:53:54.711303Z",
     "iopub.status.idle": "2021-06-16T13:53:54.717583Z",
     "shell.execute_reply": "2021-06-16T13:53:54.716479Z",
     "shell.execute_reply.started": "2021-06-16T13:53:54.711728Z"
    },
    "papermill": {
     "duration": 0.096801,
     "end_time": "2021-06-22T20:59:58.741295",
     "exception": false,
     "start_time": "2021-06-22T20:59:58.644494",
     "status": "completed"
    },
    "tags": []
   },
   "source": [
    "### Q5. Check if there is a house without a family head."
   ]
  },
  {
   "cell_type": "code",
   "execution_count": 33,
   "id": "muslim-relationship",
   "metadata": {
    "execution": {
     "iopub.execute_input": "2021-06-22T20:59:58.936048Z",
     "iopub.status.busy": "2021-06-22T20:59:58.935321Z",
     "iopub.status.idle": "2021-06-22T20:59:58.955984Z",
     "shell.execute_reply": "2021-06-22T20:59:58.956649Z",
     "shell.execute_reply.started": "2021-06-22T20:45:27.234749Z"
    },
    "papermill": {
     "duration": 0.120113,
     "end_time": "2021-06-22T20:59:58.956876",
     "exception": false,
     "start_time": "2021-06-22T20:59:58.836763",
     "status": "completed"
    },
    "tags": []
   },
   "outputs": [
    {
     "data": {
      "text/html": [
       "<div>\n",
       "<style scoped>\n",
       "    .dataframe tbody tr th:only-of-type {\n",
       "        vertical-align: middle;\n",
       "    }\n",
       "\n",
       "    .dataframe tbody tr th {\n",
       "        vertical-align: top;\n",
       "    }\n",
       "\n",
       "    .dataframe thead th {\n",
       "        text-align: right;\n",
       "    }\n",
       "</style>\n",
       "<table border=\"1\" class=\"dataframe\">\n",
       "  <thead>\n",
       "    <tr style=\"text-align: right;\">\n",
       "      <th></th>\n",
       "      <th>idhogar</th>\n",
       "      <th>Target</th>\n",
       "    </tr>\n",
       "  </thead>\n",
       "  <tbody>\n",
       "    <tr>\n",
       "      <th>0</th>\n",
       "      <td>001ff74ca</td>\n",
       "      <td>1</td>\n",
       "    </tr>\n",
       "    <tr>\n",
       "      <th>1</th>\n",
       "      <td>003123ec2</td>\n",
       "      <td>1</td>\n",
       "    </tr>\n",
       "    <tr>\n",
       "      <th>2</th>\n",
       "      <td>004616164</td>\n",
       "      <td>1</td>\n",
       "    </tr>\n",
       "    <tr>\n",
       "      <th>3</th>\n",
       "      <td>004983866</td>\n",
       "      <td>1</td>\n",
       "    </tr>\n",
       "    <tr>\n",
       "      <th>4</th>\n",
       "      <td>005905417</td>\n",
       "      <td>1</td>\n",
       "    </tr>\n",
       "    <tr>\n",
       "      <th>...</th>\n",
       "      <td>...</td>\n",
       "      <td>...</td>\n",
       "    </tr>\n",
       "    <tr>\n",
       "      <th>2983</th>\n",
       "      <td>ff9343a35</td>\n",
       "      <td>1</td>\n",
       "    </tr>\n",
       "    <tr>\n",
       "      <th>2984</th>\n",
       "      <td>ff9d5ab17</td>\n",
       "      <td>1</td>\n",
       "    </tr>\n",
       "    <tr>\n",
       "      <th>2985</th>\n",
       "      <td>ffae4a097</td>\n",
       "      <td>1</td>\n",
       "    </tr>\n",
       "    <tr>\n",
       "      <th>2986</th>\n",
       "      <td>ffe90d46f</td>\n",
       "      <td>1</td>\n",
       "    </tr>\n",
       "    <tr>\n",
       "      <th>2987</th>\n",
       "      <td>fff7d6be1</td>\n",
       "      <td>1</td>\n",
       "    </tr>\n",
       "  </tbody>\n",
       "</table>\n",
       "<p>2988 rows × 2 columns</p>\n",
       "</div>"
      ],
      "text/plain": [
       "        idhogar  Target\n",
       "0     001ff74ca       1\n",
       "1     003123ec2       1\n",
       "2     004616164       1\n",
       "3     004983866       1\n",
       "4     005905417       1\n",
       "...         ...     ...\n",
       "2983  ff9343a35       1\n",
       "2984  ff9d5ab17       1\n",
       "2985  ffae4a097       1\n",
       "2986  ffe90d46f       1\n",
       "2987  fff7d6be1       1\n",
       "\n",
       "[2988 rows x 2 columns]"
      ]
     },
     "execution_count": 33,
     "metadata": {},
     "output_type": "execute_result"
    }
   ],
   "source": [
    "household_head = train.groupby('idhogar')['parentesco1'].sum()\n",
    "household_head.rename_axis('idhogar').reset_index(name= 'Target')"
   ]
  },
  {
   "cell_type": "code",
   "execution_count": 34,
   "id": "crude-guitar",
   "metadata": {
    "execution": {
     "iopub.execute_input": "2021-06-22T20:59:59.149495Z",
     "iopub.status.busy": "2021-06-22T20:59:59.148790Z",
     "iopub.status.idle": "2021-06-22T20:59:59.156069Z",
     "shell.execute_reply": "2021-06-22T20:59:59.155521Z",
     "shell.execute_reply.started": "2021-06-22T20:45:27.261614Z"
    },
    "papermill": {
     "duration": 0.104953,
     "end_time": "2021-06-22T20:59:59.156236",
     "exception": false,
     "start_time": "2021-06-22T20:59:59.051283",
     "status": "completed"
    },
    "tags": []
   },
   "outputs": [],
   "source": [
    "household_without_head = train.loc[train['idhogar'].isin(household_head[household_head == 0].index), :]"
   ]
  },
  {
   "cell_type": "code",
   "execution_count": 35,
   "id": "welcome-huntington",
   "metadata": {
    "execution": {
     "iopub.execute_input": "2021-06-22T20:59:59.371978Z",
     "iopub.status.busy": "2021-06-22T20:59:59.370902Z",
     "iopub.status.idle": "2021-06-22T20:59:59.375990Z",
     "shell.execute_reply": "2021-06-22T20:59:59.375342Z",
     "shell.execute_reply.started": "2021-06-22T20:45:27.272022Z"
    },
    "papermill": {
     "duration": 0.122528,
     "end_time": "2021-06-22T20:59:59.376166",
     "exception": false,
     "start_time": "2021-06-22T20:59:59.253638",
     "status": "completed"
    },
    "tags": []
   },
   "outputs": [
    {
     "data": {
      "text/html": [
       "<div>\n",
       "<style scoped>\n",
       "    .dataframe tbody tr th:only-of-type {\n",
       "        vertical-align: middle;\n",
       "    }\n",
       "\n",
       "    .dataframe tbody tr th {\n",
       "        vertical-align: top;\n",
       "    }\n",
       "\n",
       "    .dataframe thead th {\n",
       "        text-align: right;\n",
       "    }\n",
       "</style>\n",
       "<table border=\"1\" class=\"dataframe\">\n",
       "  <thead>\n",
       "    <tr style=\"text-align: right;\">\n",
       "      <th></th>\n",
       "      <th>Id</th>\n",
       "      <th>v2a1</th>\n",
       "      <th>hacdor</th>\n",
       "      <th>rooms</th>\n",
       "      <th>hacapo</th>\n",
       "      <th>v14a</th>\n",
       "      <th>refrig</th>\n",
       "      <th>v18q</th>\n",
       "      <th>v18q1</th>\n",
       "      <th>r4h1</th>\n",
       "      <th>...</th>\n",
       "      <th>SQBescolari</th>\n",
       "      <th>SQBage</th>\n",
       "      <th>SQBhogar_total</th>\n",
       "      <th>SQBedjefe</th>\n",
       "      <th>SQBhogar_nin</th>\n",
       "      <th>SQBovercrowding</th>\n",
       "      <th>SQBdependency</th>\n",
       "      <th>SQBmeaned</th>\n",
       "      <th>agesq</th>\n",
       "      <th>Target</th>\n",
       "    </tr>\n",
       "  </thead>\n",
       "  <tbody>\n",
       "    <tr>\n",
       "      <th>4935</th>\n",
       "      <td>ID_717302050</td>\n",
       "      <td>NaN</td>\n",
       "      <td>0</td>\n",
       "      <td>8</td>\n",
       "      <td>0</td>\n",
       "      <td>1</td>\n",
       "      <td>1</td>\n",
       "      <td>0</td>\n",
       "      <td>NaN</td>\n",
       "      <td>0</td>\n",
       "      <td>...</td>\n",
       "      <td>36</td>\n",
       "      <td>1156</td>\n",
       "      <td>16</td>\n",
       "      <td>36</td>\n",
       "      <td>4</td>\n",
       "      <td>0.64</td>\n",
       "      <td>1.0</td>\n",
       "      <td>36.00</td>\n",
       "      <td>1156</td>\n",
       "      <td>3</td>\n",
       "    </tr>\n",
       "    <tr>\n",
       "      <th>4975</th>\n",
       "      <td>ID_ff6f13458</td>\n",
       "      <td>NaN</td>\n",
       "      <td>0</td>\n",
       "      <td>4</td>\n",
       "      <td>0</td>\n",
       "      <td>1</td>\n",
       "      <td>1</td>\n",
       "      <td>0</td>\n",
       "      <td>NaN</td>\n",
       "      <td>1</td>\n",
       "      <td>...</td>\n",
       "      <td>81</td>\n",
       "      <td>256</td>\n",
       "      <td>16</td>\n",
       "      <td>81</td>\n",
       "      <td>4</td>\n",
       "      <td>4.00</td>\n",
       "      <td>1.0</td>\n",
       "      <td>56.25</td>\n",
       "      <td>256</td>\n",
       "      <td>3</td>\n",
       "    </tr>\n",
       "  </tbody>\n",
       "</table>\n",
       "<p>2 rows × 143 columns</p>\n",
       "</div>"
      ],
      "text/plain": [
       "                Id  v2a1  hacdor  rooms  hacapo  v14a  refrig  v18q  v18q1  \\\n",
       "4935  ID_717302050   NaN       0      8       0     1       1     0    NaN   \n",
       "4975  ID_ff6f13458   NaN       0      4       0     1       1     0    NaN   \n",
       "\n",
       "      r4h1  ...  SQBescolari  SQBage  SQBhogar_total  SQBedjefe  SQBhogar_nin  \\\n",
       "4935     0  ...           36    1156              16         36             4   \n",
       "4975     1  ...           81     256              16         81             4   \n",
       "\n",
       "      SQBovercrowding  SQBdependency  SQBmeaned  agesq  Target  \n",
       "4935             0.64            1.0      36.00   1156       3  \n",
       "4975             4.00            1.0      56.25    256       3  \n",
       "\n",
       "[2 rows x 143 columns]"
      ]
     },
     "execution_count": 35,
     "metadata": {},
     "output_type": "execute_result"
    }
   ],
   "source": [
    "household_without_head.head(2)"
   ]
  },
  {
   "cell_type": "code",
   "execution_count": 36,
   "id": "renewable-night",
   "metadata": {
    "execution": {
     "iopub.execute_input": "2021-06-22T20:59:59.650961Z",
     "iopub.status.busy": "2021-06-22T20:59:59.650016Z",
     "iopub.status.idle": "2021-06-22T20:59:59.655439Z",
     "shell.execute_reply": "2021-06-22T20:59:59.654764Z",
     "shell.execute_reply.started": "2021-06-22T20:45:27.308560Z"
    },
    "papermill": {
     "duration": 0.107747,
     "end_time": "2021-06-22T20:59:59.655608",
     "exception": false,
     "start_time": "2021-06-22T20:59:59.547861",
     "status": "completed"
    },
    "tags": []
   },
   "outputs": [
    {
     "name": "stdout",
     "output_type": "stream",
     "text": [
      "There are 15 households without a head.\n"
     ]
    }
   ],
   "source": [
    "print('There are {} households without a head.'.format(household_without_head['idhogar'].nunique()))"
   ]
  },
  {
   "cell_type": "markdown",
   "id": "quiet-wagner",
   "metadata": {
    "papermill": {
     "duration": 0.094958,
     "end_time": "2021-06-22T20:59:59.850031",
     "exception": false,
     "start_time": "2021-06-22T20:59:59.755073",
     "status": "completed"
    },
    "tags": []
   },
   "source": [
    "### Q6. Set the poverty level of the members and the head of the house same in a family."
   ]
  },
  {
   "cell_type": "code",
   "execution_count": 37,
   "id": "animal-mailing",
   "metadata": {
    "execution": {
     "iopub.execute_input": "2021-06-22T21:00:00.053226Z",
     "iopub.status.busy": "2021-06-22T21:00:00.049591Z",
     "iopub.status.idle": "2021-06-22T21:00:00.066875Z",
     "shell.execute_reply": "2021-06-22T21:00:00.066153Z",
     "shell.execute_reply.started": "2021-06-22T20:45:27.322222Z"
    },
    "papermill": {
     "duration": 0.119537,
     "end_time": "2021-06-22T21:00:00.067035",
     "exception": false,
     "start_time": "2021-06-22T20:59:59.947498",
     "status": "completed"
    },
    "tags": []
   },
   "outputs": [
    {
     "data": {
      "text/plain": [
       "idhogar\n",
       "001ff74ca    1\n",
       "003123ec2    1\n",
       "004616164    1\n",
       "004983866    1\n",
       "005905417    1\n",
       "            ..\n",
       "ff9343a35    1\n",
       "ff9d5ab17    1\n",
       "ffae4a097    1\n",
       "ffe90d46f    1\n",
       "fff7d6be1    1\n",
       "Name: Target, Length: 2973, dtype: int64"
      ]
     },
     "execution_count": 37,
     "metadata": {},
     "output_type": "execute_result"
    }
   ],
   "source": [
    "head_houses = train[train['parentesco1']==1].groupby('idhogar')['Target'].nunique()\n",
    "head_houses"
   ]
  },
  {
   "cell_type": "code",
   "execution_count": 38,
   "id": "foster-marina",
   "metadata": {
    "execution": {
     "iopub.execute_input": "2021-06-22T21:00:00.284542Z",
     "iopub.status.busy": "2021-06-22T21:00:00.262967Z",
     "iopub.status.idle": "2021-06-22T21:00:00.291857Z",
     "shell.execute_reply": "2021-06-22T21:00:00.291177Z",
     "shell.execute_reply.started": "2021-06-22T20:45:27.345611Z"
    },
    "papermill": {
     "duration": 0.129569,
     "end_time": "2021-06-22T21:00:00.292025",
     "exception": false,
     "start_time": "2021-06-22T21:00:00.162456",
     "status": "completed"
    },
    "tags": []
   },
   "outputs": [
    {
     "data": {
      "text/html": [
       "<div>\n",
       "<style scoped>\n",
       "    .dataframe tbody tr th:only-of-type {\n",
       "        vertical-align: middle;\n",
       "    }\n",
       "\n",
       "    .dataframe tbody tr th {\n",
       "        vertical-align: top;\n",
       "    }\n",
       "\n",
       "    .dataframe thead th {\n",
       "        text-align: right;\n",
       "    }\n",
       "</style>\n",
       "<table border=\"1\" class=\"dataframe\">\n",
       "  <thead>\n",
       "    <tr style=\"text-align: right;\">\n",
       "      <th></th>\n",
       "      <th>Id</th>\n",
       "      <th>v2a1</th>\n",
       "      <th>hacdor</th>\n",
       "      <th>rooms</th>\n",
       "      <th>hacapo</th>\n",
       "      <th>v14a</th>\n",
       "      <th>refrig</th>\n",
       "      <th>v18q</th>\n",
       "      <th>v18q1</th>\n",
       "      <th>r4h1</th>\n",
       "      <th>...</th>\n",
       "      <th>SQBescolari</th>\n",
       "      <th>SQBage</th>\n",
       "      <th>SQBhogar_total</th>\n",
       "      <th>SQBedjefe</th>\n",
       "      <th>SQBhogar_nin</th>\n",
       "      <th>SQBovercrowding</th>\n",
       "      <th>SQBdependency</th>\n",
       "      <th>SQBmeaned</th>\n",
       "      <th>agesq</th>\n",
       "      <th>Target</th>\n",
       "    </tr>\n",
       "  </thead>\n",
       "  <tbody>\n",
       "    <tr>\n",
       "      <th>0</th>\n",
       "      <td>ID_279628684</td>\n",
       "      <td>190000.0</td>\n",
       "      <td>0</td>\n",
       "      <td>3</td>\n",
       "      <td>0</td>\n",
       "      <td>1</td>\n",
       "      <td>1</td>\n",
       "      <td>0</td>\n",
       "      <td>NaN</td>\n",
       "      <td>0</td>\n",
       "      <td>...</td>\n",
       "      <td>100</td>\n",
       "      <td>1849</td>\n",
       "      <td>1</td>\n",
       "      <td>100</td>\n",
       "      <td>0</td>\n",
       "      <td>1.000000</td>\n",
       "      <td>0.0</td>\n",
       "      <td>100.0</td>\n",
       "      <td>1849</td>\n",
       "      <td>4</td>\n",
       "    </tr>\n",
       "    <tr>\n",
       "      <th>1</th>\n",
       "      <td>ID_f29eb3ddd</td>\n",
       "      <td>135000.0</td>\n",
       "      <td>0</td>\n",
       "      <td>4</td>\n",
       "      <td>0</td>\n",
       "      <td>1</td>\n",
       "      <td>1</td>\n",
       "      <td>1</td>\n",
       "      <td>1.0</td>\n",
       "      <td>0</td>\n",
       "      <td>...</td>\n",
       "      <td>144</td>\n",
       "      <td>4489</td>\n",
       "      <td>1</td>\n",
       "      <td>144</td>\n",
       "      <td>0</td>\n",
       "      <td>1.000000</td>\n",
       "      <td>64.0</td>\n",
       "      <td>144.0</td>\n",
       "      <td>4489</td>\n",
       "      <td>4</td>\n",
       "    </tr>\n",
       "    <tr>\n",
       "      <th>2</th>\n",
       "      <td>ID_68de51c94</td>\n",
       "      <td>NaN</td>\n",
       "      <td>0</td>\n",
       "      <td>8</td>\n",
       "      <td>0</td>\n",
       "      <td>1</td>\n",
       "      <td>1</td>\n",
       "      <td>0</td>\n",
       "      <td>NaN</td>\n",
       "      <td>0</td>\n",
       "      <td>...</td>\n",
       "      <td>121</td>\n",
       "      <td>8464</td>\n",
       "      <td>1</td>\n",
       "      <td>0</td>\n",
       "      <td>0</td>\n",
       "      <td>0.250000</td>\n",
       "      <td>64.0</td>\n",
       "      <td>121.0</td>\n",
       "      <td>8464</td>\n",
       "      <td>4</td>\n",
       "    </tr>\n",
       "    <tr>\n",
       "      <th>5</th>\n",
       "      <td>ID_ec05b1a7b</td>\n",
       "      <td>180000.0</td>\n",
       "      <td>0</td>\n",
       "      <td>5</td>\n",
       "      <td>0</td>\n",
       "      <td>1</td>\n",
       "      <td>1</td>\n",
       "      <td>1</td>\n",
       "      <td>1.0</td>\n",
       "      <td>0</td>\n",
       "      <td>...</td>\n",
       "      <td>121</td>\n",
       "      <td>1444</td>\n",
       "      <td>16</td>\n",
       "      <td>121</td>\n",
       "      <td>4</td>\n",
       "      <td>1.777778</td>\n",
       "      <td>1.0</td>\n",
       "      <td>121.0</td>\n",
       "      <td>1444</td>\n",
       "      <td>4</td>\n",
       "    </tr>\n",
       "    <tr>\n",
       "      <th>8</th>\n",
       "      <td>ID_1284f8aad</td>\n",
       "      <td>130000.0</td>\n",
       "      <td>1</td>\n",
       "      <td>2</td>\n",
       "      <td>0</td>\n",
       "      <td>1</td>\n",
       "      <td>1</td>\n",
       "      <td>0</td>\n",
       "      <td>NaN</td>\n",
       "      <td>0</td>\n",
       "      <td>...</td>\n",
       "      <td>81</td>\n",
       "      <td>900</td>\n",
       "      <td>16</td>\n",
       "      <td>81</td>\n",
       "      <td>4</td>\n",
       "      <td>16.000000</td>\n",
       "      <td>1.0</td>\n",
       "      <td>100.0</td>\n",
       "      <td>900</td>\n",
       "      <td>4</td>\n",
       "    </tr>\n",
       "  </tbody>\n",
       "</table>\n",
       "<p>5 rows × 143 columns</p>\n",
       "</div>"
      ],
      "text/plain": [
       "             Id      v2a1  hacdor  rooms  hacapo  v14a  refrig  v18q  v18q1  \\\n",
       "0  ID_279628684  190000.0       0      3       0     1       1     0    NaN   \n",
       "1  ID_f29eb3ddd  135000.0       0      4       0     1       1     1    1.0   \n",
       "2  ID_68de51c94       NaN       0      8       0     1       1     0    NaN   \n",
       "5  ID_ec05b1a7b  180000.0       0      5       0     1       1     1    1.0   \n",
       "8  ID_1284f8aad  130000.0       1      2       0     1       1     0    NaN   \n",
       "\n",
       "   r4h1  ...  SQBescolari  SQBage  SQBhogar_total  SQBedjefe  SQBhogar_nin  \\\n",
       "0     0  ...          100    1849               1        100             0   \n",
       "1     0  ...          144    4489               1        144             0   \n",
       "2     0  ...          121    8464               1          0             0   \n",
       "5     0  ...          121    1444              16        121             4   \n",
       "8     0  ...           81     900              16         81             4   \n",
       "\n",
       "   SQBovercrowding  SQBdependency  SQBmeaned  agesq  Target  \n",
       "0         1.000000            0.0      100.0   1849       4  \n",
       "1         1.000000           64.0      144.0   4489       4  \n",
       "2         0.250000           64.0      121.0   8464       4  \n",
       "5         1.777778            1.0      121.0   1444       4  \n",
       "8        16.000000            1.0      100.0    900       4  \n",
       "\n",
       "[5 rows x 143 columns]"
      ]
     },
     "execution_count": 38,
     "metadata": {},
     "output_type": "execute_result"
    }
   ],
   "source": [
    "heads = train.loc[train['parentesco1'] == 1]\n",
    "heads.head()"
   ]
  },
  {
   "cell_type": "code",
   "execution_count": 39,
   "id": "stretch-benjamin",
   "metadata": {
    "execution": {
     "iopub.execute_input": "2021-06-22T21:00:00.490960Z",
     "iopub.status.busy": "2021-06-22T21:00:00.489944Z",
     "iopub.status.idle": "2021-06-22T21:00:00.494805Z",
     "shell.execute_reply": "2021-06-22T21:00:00.494138Z",
     "shell.execute_reply.started": "2021-06-22T20:45:27.380172Z"
    },
    "papermill": {
     "duration": 0.108954,
     "end_time": "2021-06-22T21:00:00.494995",
     "exception": false,
     "start_time": "2021-06-22T21:00:00.386041",
     "status": "completed"
    },
    "tags": []
   },
   "outputs": [
    {
     "data": {
      "text/plain": [
       "(2973, 143)"
      ]
     },
     "execution_count": 39,
     "metadata": {},
     "output_type": "execute_result"
    }
   ],
   "source": [
    "heads.shape"
   ]
  },
  {
   "cell_type": "code",
   "execution_count": 40,
   "id": "labeled-beast",
   "metadata": {
    "execution": {
     "iopub.execute_input": "2021-06-22T21:00:00.697674Z",
     "iopub.status.busy": "2021-06-22T21:00:00.696789Z",
     "iopub.status.idle": "2021-06-22T21:00:00.702057Z",
     "shell.execute_reply": "2021-06-22T21:00:00.701423Z",
     "shell.execute_reply.started": "2021-06-22T20:45:27.392081Z"
    },
    "papermill": {
     "duration": 0.110934,
     "end_time": "2021-06-22T21:00:00.702211",
     "exception": false,
     "start_time": "2021-06-22T21:00:00.591277",
     "status": "completed"
    },
    "tags": []
   },
   "outputs": [
    {
     "data": {
      "text/plain": [
       "4    1954\n",
       "2     442\n",
       "3     355\n",
       "1     222\n",
       "Name: Target, dtype: int64"
      ]
     },
     "execution_count": 40,
     "metadata": {},
     "output_type": "execute_result"
    }
   ],
   "source": [
    "head_target = heads['Target'].value_counts()\n",
    "head_target"
   ]
  },
  {
   "cell_type": "code",
   "execution_count": 41,
   "id": "engaging-yahoo",
   "metadata": {
    "execution": {
     "iopub.execute_input": "2021-06-22T21:00:00.924895Z",
     "iopub.status.busy": "2021-06-22T21:00:00.905210Z",
     "iopub.status.idle": "2021-06-22T21:00:01.839234Z",
     "shell.execute_reply": "2021-06-22T21:00:01.838660Z",
     "shell.execute_reply.started": "2021-06-22T20:45:27.406854Z"
    },
    "papermill": {
     "duration": 1.041737,
     "end_time": "2021-06-22T21:00:01.839450",
     "exception": false,
     "start_time": "2021-06-22T21:00:00.797713",
     "status": "completed"
    },
    "tags": []
   },
   "outputs": [
    {
     "name": "stdout",
     "output_type": "stream",
     "text": [
      "There are 0 households where the family members do not all have the same target.\n"
     ]
    }
   ],
   "source": [
    "for household in not_same_pov.index:\n",
    "    \n",
    "       \n",
    "    tar_head = float(train[(train['idhogar'] == household) & (train['parentesco1'] == 1.0)]['Target'])\n",
    "    \n",
    "   \n",
    "    train.loc[train['idhogar'] == household,'Target'] = tar_head\n",
    "    \n",
    "    \n",
    "\n",
    "same_pov = train.groupby('idhogar')['Target'].apply(lambda x: x.nunique() == 1)\n",
    "\n",
    "not_same_pov = same_pov[same_pov != True]\n",
    "print('There are {} households where the family members do not all have the same target.'.format(len(not_same_pov)))"
   ]
  },
  {
   "cell_type": "markdown",
   "id": "eastern-topic",
   "metadata": {
    "papermill": {
     "duration": 0.100196,
     "end_time": "2021-06-22T21:00:02.038014",
     "exception": false,
     "start_time": "2021-06-22T21:00:01.937818",
     "status": "completed"
    },
    "tags": []
   },
   "source": [
    "### Q7. Count how many null values are existing in columns."
   ]
  },
  {
   "cell_type": "code",
   "execution_count": 42,
   "id": "changed-connectivity",
   "metadata": {
    "execution": {
     "iopub.execute_input": "2021-06-22T21:00:02.252569Z",
     "iopub.status.busy": "2021-06-22T21:00:02.251838Z",
     "iopub.status.idle": "2021-06-22T21:00:02.262780Z",
     "shell.execute_reply": "2021-06-22T21:00:02.262224Z",
     "shell.execute_reply.started": "2021-06-22T20:45:28.322527Z"
    },
    "papermill": {
     "duration": 0.12208,
     "end_time": "2021-06-22T21:00:02.262930",
     "exception": false,
     "start_time": "2021-06-22T21:00:02.140850",
     "status": "completed"
    },
    "tags": []
   },
   "outputs": [
    {
     "data": {
      "text/plain": [
       "rez_esc            7928\n",
       "v18q1              7342\n",
       "v2a1               6860\n",
       "SQBmeaned             5\n",
       "meaneduc              5\n",
       "                   ... \n",
       "abastaguadentro       0\n",
       "cielorazo             0\n",
       "techootro             0\n",
       "techocane             0\n",
       "Target                0\n",
       "Length: 143, dtype: int64"
      ]
     },
     "execution_count": 42,
     "metadata": {},
     "output_type": "execute_result"
    }
   ],
   "source": [
    "train.isnull().sum().sort_values(ascending= False )"
   ]
  },
  {
   "cell_type": "code",
   "execution_count": 43,
   "id": "unlikely-listing",
   "metadata": {
    "execution": {
     "iopub.execute_input": "2021-06-22T21:00:02.465118Z",
     "iopub.status.busy": "2021-06-22T21:00:02.464388Z",
     "iopub.status.idle": "2021-06-22T21:00:02.467288Z",
     "shell.execute_reply": "2021-06-22T21:00:02.467784Z",
     "shell.execute_reply.started": "2021-06-22T20:45:28.340015Z"
    },
    "papermill": {
     "duration": 0.108279,
     "end_time": "2021-06-22T21:00:02.467982",
     "exception": false,
     "start_time": "2021-06-22T21:00:02.359703",
     "status": "completed"
    },
    "tags": []
   },
   "outputs": [
    {
     "data": {
      "text/plain": [
       "0"
      ]
     },
     "execution_count": 43,
     "metadata": {},
     "output_type": "execute_result"
    }
   ],
   "source": [
    "train.Target.isnull().sum()"
   ]
  },
  {
   "cell_type": "markdown",
   "id": "cooked-afternoon",
   "metadata": {
    "papermill": {
     "duration": 0.096257,
     "end_time": "2021-06-22T21:00:02.661646",
     "exception": false,
     "start_time": "2021-06-22T21:00:02.565389",
     "status": "completed"
    },
    "tags": []
   },
   "source": [
    "### Feature Engineering"
   ]
  },
  {
   "cell_type": "code",
   "execution_count": 44,
   "id": "union-episode",
   "metadata": {
    "execution": {
     "iopub.execute_input": "2021-06-22T21:00:02.871589Z",
     "iopub.status.busy": "2021-06-22T21:00:02.870834Z",
     "iopub.status.idle": "2021-06-22T21:00:02.878610Z",
     "shell.execute_reply": "2021-06-22T21:00:02.878011Z",
     "shell.execute_reply.started": "2021-06-22T20:45:28.351078Z"
    },
    "papermill": {
     "duration": 0.120161,
     "end_time": "2021-06-22T21:00:02.878791",
     "exception": false,
     "start_time": "2021-06-22T21:00:02.758630",
     "status": "completed"
    },
    "tags": []
   },
   "outputs": [],
   "source": [
    "percent_missing = train.isnull().sum() * 100 / len(train)\n",
    "missing_value_df = pd.DataFrame({'column_name': train.columns,\n",
    "                                 'percent_missing': percent_missing})"
   ]
  },
  {
   "cell_type": "code",
   "execution_count": 45,
   "id": "turkish-paraguay",
   "metadata": {
    "execution": {
     "iopub.execute_input": "2021-06-22T21:00:03.086900Z",
     "iopub.status.busy": "2021-06-22T21:00:03.086064Z",
     "iopub.status.idle": "2021-06-22T21:00:03.089997Z",
     "shell.execute_reply": "2021-06-22T21:00:03.089240Z",
     "shell.execute_reply.started": "2021-06-22T20:45:28.370511Z"
    },
    "papermill": {
     "duration": 0.111944,
     "end_time": "2021-06-22T21:00:03.090177",
     "exception": false,
     "start_time": "2021-06-22T21:00:02.978233",
     "status": "completed"
    },
    "tags": []
   },
   "outputs": [],
   "source": [
    "missing_value_df.sort_values('percent_missing', inplace=True,ascending = False)"
   ]
  },
  {
   "cell_type": "code",
   "execution_count": 46,
   "id": "confirmed-valley",
   "metadata": {
    "execution": {
     "iopub.execute_input": "2021-06-22T21:00:03.310986Z",
     "iopub.status.busy": "2021-06-22T21:00:03.309963Z",
     "iopub.status.idle": "2021-06-22T21:00:03.315166Z",
     "shell.execute_reply": "2021-06-22T21:00:03.314572Z",
     "shell.execute_reply.started": "2021-06-22T20:45:28.379579Z"
    },
    "papermill": {
     "duration": 0.122334,
     "end_time": "2021-06-22T21:00:03.315340",
     "exception": false,
     "start_time": "2021-06-22T21:00:03.193006",
     "status": "completed"
    },
    "tags": []
   },
   "outputs": [
    {
     "data": {
      "text/html": [
       "<div>\n",
       "<style scoped>\n",
       "    .dataframe tbody tr th:only-of-type {\n",
       "        vertical-align: middle;\n",
       "    }\n",
       "\n",
       "    .dataframe tbody tr th {\n",
       "        vertical-align: top;\n",
       "    }\n",
       "\n",
       "    .dataframe thead th {\n",
       "        text-align: right;\n",
       "    }\n",
       "</style>\n",
       "<table border=\"1\" class=\"dataframe\">\n",
       "  <thead>\n",
       "    <tr style=\"text-align: right;\">\n",
       "      <th></th>\n",
       "      <th>column_name</th>\n",
       "      <th>percent_missing</th>\n",
       "    </tr>\n",
       "  </thead>\n",
       "  <tbody>\n",
       "    <tr>\n",
       "      <th>rez_esc</th>\n",
       "      <td>rez_esc</td>\n",
       "      <td>82.954902</td>\n",
       "    </tr>\n",
       "    <tr>\n",
       "      <th>v18q1</th>\n",
       "      <td>v18q1</td>\n",
       "      <td>76.823271</td>\n",
       "    </tr>\n",
       "    <tr>\n",
       "      <th>v2a1</th>\n",
       "      <td>v2a1</td>\n",
       "      <td>71.779847</td>\n",
       "    </tr>\n",
       "    <tr>\n",
       "      <th>SQBmeaned</th>\n",
       "      <td>SQBmeaned</td>\n",
       "      <td>0.052318</td>\n",
       "    </tr>\n",
       "    <tr>\n",
       "      <th>meaneduc</th>\n",
       "      <td>meaneduc</td>\n",
       "      <td>0.052318</td>\n",
       "    </tr>\n",
       "  </tbody>\n",
       "</table>\n",
       "</div>"
      ],
      "text/plain": [
       "          column_name  percent_missing\n",
       "rez_esc       rez_esc        82.954902\n",
       "v18q1           v18q1        76.823271\n",
       "v2a1             v2a1        71.779847\n",
       "SQBmeaned   SQBmeaned         0.052318\n",
       "meaneduc     meaneduc         0.052318"
      ]
     },
     "execution_count": 46,
     "metadata": {},
     "output_type": "execute_result"
    }
   ],
   "source": [
    "missing_value_df.head()"
   ]
  },
  {
   "cell_type": "code",
   "execution_count": 47,
   "id": "little-imaging",
   "metadata": {
    "execution": {
     "iopub.execute_input": "2021-06-22T21:00:03.548653Z",
     "iopub.status.busy": "2021-06-22T21:00:03.530666Z",
     "iopub.status.idle": "2021-06-22T21:00:03.552827Z",
     "shell.execute_reply": "2021-06-22T21:00:03.552138Z",
     "shell.execute_reply.started": "2021-06-22T20:45:28.400416Z"
    },
    "papermill": {
     "duration": 0.140184,
     "end_time": "2021-06-22T21:00:03.553001",
     "exception": false,
     "start_time": "2021-06-22T21:00:03.412817",
     "status": "completed"
    },
    "tags": []
   },
   "outputs": [],
   "source": [
    "train.drop(axis = 1,columns=['rez_esc','v18q1','v18q'], inplace = True)\n",
    "test.drop(axis = 1,columns=['rez_esc','v18q1','v18q'], inplace = True)"
   ]
  },
  {
   "cell_type": "markdown",
   "id": "clinical-underwear",
   "metadata": {
    "papermill": {
     "duration": 0.098473,
     "end_time": "2021-06-22T21:00:03.748615",
     "exception": false,
     "start_time": "2021-06-22T21:00:03.650142",
     "status": "completed"
    },
    "tags": []
   },
   "source": [
    "### Checking for outliers"
   ]
  },
  {
   "cell_type": "code",
   "execution_count": 48,
   "id": "abstract-scope",
   "metadata": {
    "execution": {
     "iopub.execute_input": "2021-06-22T21:00:03.949660Z",
     "iopub.status.busy": "2021-06-22T21:00:03.948729Z",
     "iopub.status.idle": "2021-06-22T21:00:05.055275Z",
     "shell.execute_reply": "2021-06-22T21:00:05.054527Z",
     "shell.execute_reply.started": "2021-06-22T20:45:28.422824Z"
    },
    "papermill": {
     "duration": 1.209517,
     "end_time": "2021-06-22T21:00:05.055438",
     "exception": false,
     "start_time": "2021-06-22T21:00:03.845921",
     "status": "completed"
    },
    "tags": []
   },
   "outputs": [
    {
     "data": {
      "image/png": "[encoded data removed]",
      "text/plain": [
       "<Figure size 432x288 with 1 Axes>"
      ]
     },
     "metadata": {},
     "output_type": "display_data"
    }
   ],
   "source": [
    "import seaborn as sns\n",
    "sns.set_theme(style=\"whitegrid\")\n",
    "ax = sns.boxplot(x=train[\"v2a1\"])"
   ]
  },
  {
   "cell_type": "code",
   "execution_count": 49,
   "id": "indonesian-vermont",
   "metadata": {
    "execution": {
     "iopub.execute_input": "2021-06-22T21:00:05.256164Z",
     "iopub.status.busy": "2021-06-22T21:00:05.255138Z",
     "iopub.status.idle": "2021-06-22T21:00:05.266558Z",
     "shell.execute_reply": "2021-06-22T21:00:05.265899Z",
     "shell.execute_reply.started": "2021-06-22T20:45:28.583851Z"
    },
    "papermill": {
     "duration": 0.113627,
     "end_time": "2021-06-22T21:00:05.266713",
     "exception": false,
     "start_time": "2021-06-22T21:00:05.153086",
     "status": "completed"
    },
    "tags": []
   },
   "outputs": [
    {
     "data": {
      "text/plain": [
       "count    2.697000e+03\n",
       "mean     1.652316e+05\n",
       "std      1.504571e+05\n",
       "min      0.000000e+00\n",
       "25%      8.000000e+04\n",
       "50%      1.300000e+05\n",
       "75%      2.000000e+05\n",
       "max      2.353477e+06\n",
       "Name: v2a1, dtype: float64"
      ]
     },
     "execution_count": 49,
     "metadata": {},
     "output_type": "execute_result"
    }
   ],
   "source": [
    "train['v2a1'].describe().T"
   ]
  },
  {
   "cell_type": "markdown",
   "id": "aboriginal-commonwealth",
   "metadata": {
    "papermill": {
     "duration": 0.099892,
     "end_time": "2021-06-22T21:00:05.465963",
     "exception": false,
     "start_time": "2021-06-22T21:00:05.366071",
     "status": "completed"
    },
    "tags": []
   },
   "source": [
    "The montly rent payment column is related to the below columns provided in the list\n",
    "\n",
    "tipovivi1 : =1 Own and fully paid house\n",
    "\n",
    "tipovivi2 : =1 Own & paying in installments\n",
    "\n",
    "tipovivi3 : =1, Rented\n",
    "\n",
    "tipovivi4 : =1 precarious\n",
    "\n",
    "tipovivi5 : =1 Other, assigned, borrowed\n",
    "\n",
    "The below bar graph analysis on distribution of NaN based on home ownership status."
   ]
  },
  {
   "cell_type": "code",
   "execution_count": 50,
   "id": "demonstrated-cinema",
   "metadata": {
    "execution": {
     "iopub.execute_input": "2021-06-22T21:00:05.671696Z",
     "iopub.status.busy": "2021-06-22T21:00:05.671012Z",
     "iopub.status.idle": "2021-06-22T21:00:05.859565Z",
     "shell.execute_reply": "2021-06-22T21:00:05.860031Z",
     "shell.execute_reply.started": "2021-06-22T20:45:28.596957Z"
    },
    "papermill": {
     "duration": 0.291606,
     "end_time": "2021-06-22T21:00:05.860243",
     "exception": false,
     "start_time": "2021-06-22T21:00:05.568637",
     "status": "completed"
    },
    "tags": []
   },
   "outputs": [
    {
     "data": {
      "text/plain": [
       "Text(0.5, 1.0, 'NaN Distribution Based On Ownership Type')"
      ]
     },
     "execution_count": 50,
     "metadata": {},
     "output_type": "execute_result"
    },
    {
     "data": {
      "image/png": "[encoded data removed]",
      "text/plain": [
       "<Figure size 360x360 with 1 Axes>"
      ]
     },
     "metadata": {},
     "output_type": "display_data"
    }
   ],
   "source": [
    "import matplotlib.pyplot as plt \n",
    "ownership_columns = ['tipovivi1','tipovivi2','tipovivi3','tipovivi4','tipovivi5']\n",
    "train.loc[train['v2a1'].isnull(), ownership_columns].sum().plot.bar(figsize=(5,5))\n",
    "plt.title('NaN Distribution Based On Ownership Type')"
   ]
  },
  {
   "cell_type": "code",
   "execution_count": 51,
   "id": "virtual-bloom",
   "metadata": {
    "execution": {
     "iopub.execute_input": "2021-06-22T21:00:06.068903Z",
     "iopub.status.busy": "2021-06-22T21:00:06.067827Z",
     "iopub.status.idle": "2021-06-22T21:00:06.264693Z",
     "shell.execute_reply": "2021-06-22T21:00:06.263996Z",
     "shell.execute_reply.started": "2021-06-22T20:45:28.781349Z"
    },
    "papermill": {
     "duration": 0.301936,
     "end_time": "2021-06-22T21:00:06.264847",
     "exception": false,
     "start_time": "2021-06-22T21:00:05.962911",
     "status": "completed"
    },
    "tags": []
   },
   "outputs": [
    {
     "data": {
      "text/plain": [
       "Text(0.5, 1.0, 'NaN Distribution Based On Ownership Type')"
      ]
     },
     "execution_count": 51,
     "metadata": {},
     "output_type": "execute_result"
    },
    {
     "data": {
      "image/png": "[encoded data removed]",
      "text/plain": [
       "<Figure size 360x360 with 1 Axes>"
      ]
     },
     "metadata": {},
     "output_type": "display_data"
    }
   ],
   "source": [
    "ownership_columns = ['tipovivi1','tipovivi2','tipovivi3','tipovivi4','tipovivi5']\n",
    "test.loc[test['v2a1'].isnull(), ownership_columns].sum().plot.bar(figsize=(5,5))\n",
    "plt.title('NaN Distribution Based On Ownership Type')"
   ]
  },
  {
   "cell_type": "markdown",
   "id": "subsequent-paris",
   "metadata": {
    "papermill": {
     "duration": 0.101756,
     "end_time": "2021-06-22T21:00:06.470543",
     "exception": false,
     "start_time": "2021-06-22T21:00:06.368787",
     "status": "completed"
    },
    "tags": []
   },
   "source": [
    "So we will impute zero on our missing values in v2a1 Column which is monthly rent payment .\n"
   ]
  },
  {
   "cell_type": "code",
   "execution_count": 52,
   "id": "becoming-creek",
   "metadata": {
    "execution": {
     "iopub.execute_input": "2021-06-22T21:00:06.683941Z",
     "iopub.status.busy": "2021-06-22T21:00:06.683211Z",
     "iopub.status.idle": "2021-06-22T21:00:06.685797Z",
     "shell.execute_reply": "2021-06-22T21:00:06.685163Z",
     "shell.execute_reply.started": "2021-06-22T20:45:28.977338Z"
    },
    "papermill": {
     "duration": 0.112983,
     "end_time": "2021-06-22T21:00:06.685942",
     "exception": false,
     "start_time": "2021-06-22T21:00:06.572959",
     "status": "completed"
    },
    "tags": []
   },
   "outputs": [],
   "source": [
    "train['v2a1'].fillna(value=0, inplace=True)"
   ]
  },
  {
   "cell_type": "code",
   "execution_count": 53,
   "id": "floppy-ukraine",
   "metadata": {
    "execution": {
     "iopub.execute_input": "2021-06-22T21:00:06.901106Z",
     "iopub.status.busy": "2021-06-22T21:00:06.900437Z",
     "iopub.status.idle": "2021-06-22T21:00:06.902641Z",
     "shell.execute_reply": "2021-06-22T21:00:06.903218Z",
     "shell.execute_reply.started": "2021-06-22T20:45:28.985842Z"
    },
    "papermill": {
     "duration": 0.113712,
     "end_time": "2021-06-22T21:00:06.903413",
     "exception": false,
     "start_time": "2021-06-22T21:00:06.789701",
     "status": "completed"
    },
    "tags": []
   },
   "outputs": [],
   "source": [
    "test['v2a1'].fillna(value=0, inplace=True)"
   ]
  },
  {
   "cell_type": "markdown",
   "id": "still-galaxy",
   "metadata": {
    "papermill": {
     "duration": 0.108726,
     "end_time": "2021-06-22T21:00:07.115053",
     "exception": false,
     "start_time": "2021-06-22T21:00:07.006327",
     "status": "completed"
    },
    "tags": []
   },
   "source": [
    "We should focus on the squared columns whihc might be redundant. Since we have a large number of columns and these squared columns might not be helpful\n",
    "\n",
    "1. SQBescolari= escolari squared\n",
    "2. SQBage, age squared\n",
    "3. SQBhogar_total, hogar_total squared\n",
    "4. SQBedjefe, edjefe squared\n",
    "5. SQBhogar_nin, hogar_nin squared\n",
    "6. SQBovercrowding, overcrowding squared\n",
    "7. SQBdependency, dependency squared\n",
    "8. SQBmeaned, square of the mean years of education of adults (>=18) in the household\n",
    "9. agesq= Age squared"
   ]
  },
  {
   "cell_type": "code",
   "execution_count": 54,
   "id": "electric-inspiration",
   "metadata": {
    "execution": {
     "iopub.execute_input": "2021-06-22T21:00:07.323227Z",
     "iopub.status.busy": "2021-06-22T21:00:07.322431Z",
     "iopub.status.idle": "2021-06-22T21:00:07.354034Z",
     "shell.execute_reply": "2021-06-22T21:00:07.354659Z",
     "shell.execute_reply.started": "2021-06-22T20:45:29.000216Z"
    },
    "papermill": {
     "duration": 0.138334,
     "end_time": "2021-06-22T21:00:07.354849",
     "exception": false,
     "start_time": "2021-06-22T21:00:07.216515",
     "status": "completed"
    },
    "tags": []
   },
   "outputs": [],
   "source": [
    "drop_columns = ['SQBescolari', 'SQBage', 'SQBhogar_total', 'SQBedjefe', \n",
    "                'SQBhogar_nin', 'SQBovercrowding', 'SQBdependency', 'SQBmeaned', 'agesq']\n",
    "\n",
    "train.drop(columns= drop_columns, inplace=True)\n",
    "test.drop(columns= drop_columns, inplace=True)"
   ]
  },
  {
   "cell_type": "code",
   "execution_count": 55,
   "id": "desperate-voice",
   "metadata": {
    "execution": {
     "iopub.execute_input": "2021-06-22T21:00:07.566069Z",
     "iopub.status.busy": "2021-06-22T21:00:07.565439Z",
     "iopub.status.idle": "2021-06-22T21:00:07.575578Z",
     "shell.execute_reply": "2021-06-22T21:00:07.576127Z",
     "shell.execute_reply.started": "2021-06-22T20:45:29.033497Z"
    },
    "papermill": {
     "duration": 0.117521,
     "end_time": "2021-06-22T21:00:07.576347",
     "exception": false,
     "start_time": "2021-06-22T21:00:07.458826",
     "status": "completed"
    },
    "tags": []
   },
   "outputs": [
    {
     "data": {
      "text/plain": [
       "count    9552.000000\n",
       "mean        9.231523\n",
       "std         4.167694\n",
       "min         0.000000\n",
       "25%         6.000000\n",
       "50%         9.000000\n",
       "75%        11.600000\n",
       "max        37.000000\n",
       "Name: meaneduc, dtype: float64"
      ]
     },
     "execution_count": 55,
     "metadata": {},
     "output_type": "execute_result"
    }
   ],
   "source": [
    "train['meaneduc'].describe()"
   ]
  },
  {
   "cell_type": "code",
   "execution_count": 56,
   "id": "similar-measurement",
   "metadata": {
    "execution": {
     "iopub.execute_input": "2021-06-22T21:00:07.787290Z",
     "iopub.status.busy": "2021-06-22T21:00:07.786634Z",
     "iopub.status.idle": "2021-06-22T21:00:07.793171Z",
     "shell.execute_reply": "2021-06-22T21:00:07.793830Z",
     "shell.execute_reply.started": "2021-06-22T20:45:29.058021Z"
    },
    "papermill": {
     "duration": 0.112968,
     "end_time": "2021-06-22T21:00:07.794025",
     "exception": false,
     "start_time": "2021-06-22T21:00:07.681057",
     "status": "completed"
    },
    "tags": []
   },
   "outputs": [
    {
     "data": {
      "text/plain": [
       "5"
      ]
     },
     "execution_count": 56,
     "metadata": {},
     "output_type": "execute_result"
    }
   ],
   "source": [
    "train['meaneduc'].isnull().sum()"
   ]
  },
  {
   "cell_type": "code",
   "execution_count": 57,
   "id": "baking-projection",
   "metadata": {
    "execution": {
     "iopub.execute_input": "2021-06-22T21:00:08.001737Z",
     "iopub.status.busy": "2021-06-22T21:00:08.001011Z",
     "iopub.status.idle": "2021-06-22T21:00:08.005448Z",
     "shell.execute_reply": "2021-06-22T21:00:08.006206Z",
     "shell.execute_reply.started": "2021-06-22T20:45:29.067284Z"
    },
    "papermill": {
     "duration": 0.110162,
     "end_time": "2021-06-22T21:00:08.006471",
     "exception": false,
     "start_time": "2021-06-22T21:00:07.896309",
     "status": "completed"
    },
    "tags": []
   },
   "outputs": [],
   "source": [
    "train['meaneduc'].fillna(value=0, inplace=True)"
   ]
  },
  {
   "cell_type": "code",
   "execution_count": 58,
   "id": "premium-deficit",
   "metadata": {
    "execution": {
     "iopub.execute_input": "2021-06-22T21:00:08.222980Z",
     "iopub.status.busy": "2021-06-22T21:00:08.222181Z",
     "iopub.status.idle": "2021-06-22T21:00:08.227757Z",
     "shell.execute_reply": "2021-06-22T21:00:08.228310Z",
     "shell.execute_reply.started": "2021-06-22T20:45:29.082948Z"
    },
    "papermill": {
     "duration": 0.114077,
     "end_time": "2021-06-22T21:00:08.228506",
     "exception": false,
     "start_time": "2021-06-22T21:00:08.114429",
     "status": "completed"
    },
    "tags": []
   },
   "outputs": [
    {
     "data": {
      "text/plain": [
       "0"
      ]
     },
     "execution_count": 58,
     "metadata": {},
     "output_type": "execute_result"
    }
   ],
   "source": [
    "train['meaneduc'].isnull().sum()"
   ]
  },
  {
   "cell_type": "code",
   "execution_count": 59,
   "id": "copyrighted-proposal",
   "metadata": {
    "execution": {
     "iopub.execute_input": "2021-06-22T21:00:08.441731Z",
     "iopub.status.busy": "2021-06-22T21:00:08.440982Z",
     "iopub.status.idle": "2021-06-22T21:00:08.446018Z",
     "shell.execute_reply": "2021-06-22T21:00:08.446544Z",
     "shell.execute_reply.started": "2021-06-22T20:45:29.099633Z"
    },
    "papermill": {
     "duration": 0.113596,
     "end_time": "2021-06-22T21:00:08.446748",
     "exception": false,
     "start_time": "2021-06-22T21:00:08.333152",
     "status": "completed"
    },
    "tags": []
   },
   "outputs": [],
   "source": [
    "test['meaneduc'].fillna(value =0 , inplace = True)"
   ]
  },
  {
   "cell_type": "code",
   "execution_count": 60,
   "id": "metric-ireland",
   "metadata": {
    "execution": {
     "iopub.execute_input": "2021-06-22T21:00:08.658737Z",
     "iopub.status.busy": "2021-06-22T21:00:08.657530Z",
     "iopub.status.idle": "2021-06-22T21:00:08.666171Z",
     "shell.execute_reply": "2021-06-22T21:00:08.666793Z",
     "shell.execute_reply.started": "2021-06-22T20:45:29.112134Z"
    },
    "papermill": {
     "duration": 0.117015,
     "end_time": "2021-06-22T21:00:08.666996",
     "exception": false,
     "start_time": "2021-06-22T21:00:08.549981",
     "status": "completed"
    },
    "tags": []
   },
   "outputs": [
    {
     "data": {
      "text/plain": [
       "0"
      ]
     },
     "execution_count": 60,
     "metadata": {},
     "output_type": "execute_result"
    }
   ],
   "source": [
    "test['meaneduc'].isnull().sum()"
   ]
  },
  {
   "cell_type": "markdown",
   "id": "sunrise-castle",
   "metadata": {
    "papermill": {
     "duration": 0.102999,
     "end_time": "2021-06-22T21:00:08.877009",
     "exception": false,
     "start_time": "2021-06-22T21:00:08.774010",
     "status": "completed"
    },
    "tags": []
   },
   "source": [
    "### Correlation Matrix "
   ]
  },
  {
   "cell_type": "code",
   "execution_count": 61,
   "id": "indonesian-bobby",
   "metadata": {
    "execution": {
     "iopub.execute_input": "2021-06-22T21:00:09.086053Z",
     "iopub.status.busy": "2021-06-22T21:00:09.085307Z",
     "iopub.status.idle": "2021-06-22T21:00:09.534786Z",
     "shell.execute_reply": "2021-06-22T21:00:09.534036Z",
     "shell.execute_reply.started": "2021-06-22T20:45:29.127201Z"
    },
    "papermill": {
     "duration": 0.556997,
     "end_time": "2021-06-22T21:00:09.534942",
     "exception": false,
     "start_time": "2021-06-22T21:00:08.977945",
     "status": "completed"
    },
    "tags": []
   },
   "outputs": [
    {
     "data": {
      "text/html": [
       "<div>\n",
       "<style scoped>\n",
       "    .dataframe tbody tr th:only-of-type {\n",
       "        vertical-align: middle;\n",
       "    }\n",
       "\n",
       "    .dataframe tbody tr th {\n",
       "        vertical-align: top;\n",
       "    }\n",
       "\n",
       "    .dataframe thead th {\n",
       "        text-align: right;\n",
       "    }\n",
       "</style>\n",
       "<table border=\"1\" class=\"dataframe\">\n",
       "  <thead>\n",
       "    <tr style=\"text-align: right;\">\n",
       "      <th></th>\n",
       "      <th>v2a1</th>\n",
       "      <th>hacdor</th>\n",
       "      <th>rooms</th>\n",
       "      <th>hacapo</th>\n",
       "      <th>v14a</th>\n",
       "      <th>refrig</th>\n",
       "      <th>r4h1</th>\n",
       "      <th>r4h2</th>\n",
       "      <th>r4h3</th>\n",
       "      <th>r4m1</th>\n",
       "      <th>...</th>\n",
       "      <th>lugar1</th>\n",
       "      <th>lugar2</th>\n",
       "      <th>lugar3</th>\n",
       "      <th>lugar4</th>\n",
       "      <th>lugar5</th>\n",
       "      <th>lugar6</th>\n",
       "      <th>area1</th>\n",
       "      <th>area2</th>\n",
       "      <th>age</th>\n",
       "      <th>Target</th>\n",
       "    </tr>\n",
       "  </thead>\n",
       "  <tbody>\n",
       "    <tr>\n",
       "      <th>v2a1</th>\n",
       "      <td>1.000000</td>\n",
       "      <td>-0.025479</td>\n",
       "      <td>0.101634</td>\n",
       "      <td>-0.030867</td>\n",
       "      <td>0.018355</td>\n",
       "      <td>0.061534</td>\n",
       "      <td>0.017916</td>\n",
       "      <td>-0.059021</td>\n",
       "      <td>-0.041202</td>\n",
       "      <td>0.027868</td>\n",
       "      <td>...</td>\n",
       "      <td>0.172564</td>\n",
       "      <td>-0.032538</td>\n",
       "      <td>-0.023249</td>\n",
       "      <td>-0.081278</td>\n",
       "      <td>-0.096422</td>\n",
       "      <td>-0.071141</td>\n",
       "      <td>0.148049</td>\n",
       "      <td>-0.148049</td>\n",
       "      <td>-0.090771</td>\n",
       "      <td>0.166055</td>\n",
       "    </tr>\n",
       "    <tr>\n",
       "      <th>hacdor</th>\n",
       "      <td>-0.025479</td>\n",
       "      <td>1.000000</td>\n",
       "      <td>-0.233369</td>\n",
       "      <td>0.652594</td>\n",
       "      <td>-0.175011</td>\n",
       "      <td>-0.101965</td>\n",
       "      <td>0.232508</td>\n",
       "      <td>0.059313</td>\n",
       "      <td>0.184857</td>\n",
       "      <td>0.268978</td>\n",
       "      <td>...</td>\n",
       "      <td>-0.042086</td>\n",
       "      <td>0.017444</td>\n",
       "      <td>0.025546</td>\n",
       "      <td>-0.010172</td>\n",
       "      <td>0.037182</td>\n",
       "      <td>0.005289</td>\n",
       "      <td>0.027721</td>\n",
       "      <td>-0.027721</td>\n",
       "      <td>-0.118168</td>\n",
       "      <td>-0.192052</td>\n",
       "    </tr>\n",
       "    <tr>\n",
       "      <th>rooms</th>\n",
       "      <td>0.101634</td>\n",
       "      <td>-0.233369</td>\n",
       "      <td>1.000000</td>\n",
       "      <td>-0.213368</td>\n",
       "      <td>0.129183</td>\n",
       "      <td>0.130531</td>\n",
       "      <td>-0.066578</td>\n",
       "      <td>0.267627</td>\n",
       "      <td>0.195222</td>\n",
       "      <td>-0.032558</td>\n",
       "      <td>...</td>\n",
       "      <td>0.223771</td>\n",
       "      <td>-0.073862</td>\n",
       "      <td>-0.130994</td>\n",
       "      <td>-0.051941</td>\n",
       "      <td>-0.099481</td>\n",
       "      <td>-0.050428</td>\n",
       "      <td>0.130286</td>\n",
       "      <td>-0.130286</td>\n",
       "      <td>0.077046</td>\n",
       "      <td>0.229089</td>\n",
       "    </tr>\n",
       "    <tr>\n",
       "      <th>hacapo</th>\n",
       "      <td>-0.030867</td>\n",
       "      <td>0.652594</td>\n",
       "      <td>-0.213368</td>\n",
       "      <td>1.000000</td>\n",
       "      <td>-0.150986</td>\n",
       "      <td>-0.124506</td>\n",
       "      <td>0.226378</td>\n",
       "      <td>0.126645</td>\n",
       "      <td>0.240056</td>\n",
       "      <td>0.241452</td>\n",
       "      <td>...</td>\n",
       "      <td>-0.038896</td>\n",
       "      <td>0.023858</td>\n",
       "      <td>-0.005963</td>\n",
       "      <td>0.000737</td>\n",
       "      <td>0.023113</td>\n",
       "      <td>0.024699</td>\n",
       "      <td>0.008402</td>\n",
       "      <td>-0.008402</td>\n",
       "      <td>-0.087773</td>\n",
       "      <td>-0.137874</td>\n",
       "    </tr>\n",
       "    <tr>\n",
       "      <th>v14a</th>\n",
       "      <td>0.018355</td>\n",
       "      <td>-0.175011</td>\n",
       "      <td>0.129183</td>\n",
       "      <td>-0.150986</td>\n",
       "      <td>1.000000</td>\n",
       "      <td>0.143143</td>\n",
       "      <td>-0.054769</td>\n",
       "      <td>0.018133</td>\n",
       "      <td>-0.015552</td>\n",
       "      <td>-0.006370</td>\n",
       "      <td>...</td>\n",
       "      <td>0.027642</td>\n",
       "      <td>-0.001824</td>\n",
       "      <td>0.000709</td>\n",
       "      <td>-0.020328</td>\n",
       "      <td>-0.021421</td>\n",
       "      <td>-0.005146</td>\n",
       "      <td>-0.007297</td>\n",
       "      <td>0.007297</td>\n",
       "      <td>0.027193</td>\n",
       "      <td>0.063321</td>\n",
       "    </tr>\n",
       "    <tr>\n",
       "      <th>...</th>\n",
       "      <td>...</td>\n",
       "      <td>...</td>\n",
       "      <td>...</td>\n",
       "      <td>...</td>\n",
       "      <td>...</td>\n",
       "      <td>...</td>\n",
       "      <td>...</td>\n",
       "      <td>...</td>\n",
       "      <td>...</td>\n",
       "      <td>...</td>\n",
       "      <td>...</td>\n",
       "      <td>...</td>\n",
       "      <td>...</td>\n",
       "      <td>...</td>\n",
       "      <td>...</td>\n",
       "      <td>...</td>\n",
       "      <td>...</td>\n",
       "      <td>...</td>\n",
       "      <td>...</td>\n",
       "      <td>...</td>\n",
       "      <td>...</td>\n",
       "    </tr>\n",
       "    <tr>\n",
       "      <th>lugar6</th>\n",
       "      <td>-0.071141</td>\n",
       "      <td>0.005289</td>\n",
       "      <td>-0.050428</td>\n",
       "      <td>0.024699</td>\n",
       "      <td>-0.005146</td>\n",
       "      <td>-0.075008</td>\n",
       "      <td>0.046550</td>\n",
       "      <td>0.034428</td>\n",
       "      <td>0.056674</td>\n",
       "      <td>0.015109</td>\n",
       "      <td>...</td>\n",
       "      <td>-0.353624</td>\n",
       "      <td>-0.094692</td>\n",
       "      <td>-0.076397</td>\n",
       "      <td>-0.088985</td>\n",
       "      <td>-0.095339</td>\n",
       "      <td>1.000000</td>\n",
       "      <td>-0.257708</td>\n",
       "      <td>0.257708</td>\n",
       "      <td>-0.036963</td>\n",
       "      <td>-0.045880</td>\n",
       "    </tr>\n",
       "    <tr>\n",
       "      <th>area1</th>\n",
       "      <td>0.148049</td>\n",
       "      <td>0.027721</td>\n",
       "      <td>0.130286</td>\n",
       "      <td>0.008402</td>\n",
       "      <td>-0.007297</td>\n",
       "      <td>0.078661</td>\n",
       "      <td>-0.046722</td>\n",
       "      <td>-0.033211</td>\n",
       "      <td>-0.055712</td>\n",
       "      <td>-0.015735</td>\n",
       "      <td>...</td>\n",
       "      <td>0.373259</td>\n",
       "      <td>-0.079163</td>\n",
       "      <td>-0.012335</td>\n",
       "      <td>-0.199467</td>\n",
       "      <td>-0.111982</td>\n",
       "      <td>-0.257708</td>\n",
       "      <td>1.000000</td>\n",
       "      <td>-1.000000</td>\n",
       "      <td>0.026770</td>\n",
       "      <td>0.088459</td>\n",
       "    </tr>\n",
       "    <tr>\n",
       "      <th>area2</th>\n",
       "      <td>-0.148049</td>\n",
       "      <td>-0.027721</td>\n",
       "      <td>-0.130286</td>\n",
       "      <td>-0.008402</td>\n",
       "      <td>0.007297</td>\n",
       "      <td>-0.078661</td>\n",
       "      <td>0.046722</td>\n",
       "      <td>0.033211</td>\n",
       "      <td>0.055712</td>\n",
       "      <td>0.015735</td>\n",
       "      <td>...</td>\n",
       "      <td>-0.373259</td>\n",
       "      <td>0.079163</td>\n",
       "      <td>0.012335</td>\n",
       "      <td>0.199467</td>\n",
       "      <td>0.111982</td>\n",
       "      <td>0.257708</td>\n",
       "      <td>-1.000000</td>\n",
       "      <td>1.000000</td>\n",
       "      <td>-0.026770</td>\n",
       "      <td>-0.088459</td>\n",
       "    </tr>\n",
       "    <tr>\n",
       "      <th>age</th>\n",
       "      <td>-0.090771</td>\n",
       "      <td>-0.118168</td>\n",
       "      <td>0.077046</td>\n",
       "      <td>-0.087773</td>\n",
       "      <td>0.027193</td>\n",
       "      <td>0.029801</td>\n",
       "      <td>-0.316990</td>\n",
       "      <td>-0.020306</td>\n",
       "      <td>-0.199225</td>\n",
       "      <td>-0.329512</td>\n",
       "      <td>...</td>\n",
       "      <td>0.064751</td>\n",
       "      <td>0.003958</td>\n",
       "      <td>-0.020481</td>\n",
       "      <td>-0.022969</td>\n",
       "      <td>-0.040033</td>\n",
       "      <td>-0.036963</td>\n",
       "      <td>0.026770</td>\n",
       "      <td>-0.026770</td>\n",
       "      <td>1.000000</td>\n",
       "      <td>0.117039</td>\n",
       "    </tr>\n",
       "    <tr>\n",
       "      <th>Target</th>\n",
       "      <td>0.166055</td>\n",
       "      <td>-0.192052</td>\n",
       "      <td>0.229089</td>\n",
       "      <td>-0.137874</td>\n",
       "      <td>0.063321</td>\n",
       "      <td>0.130326</td>\n",
       "      <td>-0.231319</td>\n",
       "      <td>0.107032</td>\n",
       "      <td>-0.039138</td>\n",
       "      <td>-0.258565</td>\n",
       "      <td>...</td>\n",
       "      <td>0.173998</td>\n",
       "      <td>-0.017713</td>\n",
       "      <td>-0.084153</td>\n",
       "      <td>-0.075782</td>\n",
       "      <td>-0.091866</td>\n",
       "      <td>-0.045880</td>\n",
       "      <td>0.088459</td>\n",
       "      <td>-0.088459</td>\n",
       "      <td>0.117039</td>\n",
       "      <td>1.000000</td>\n",
       "    </tr>\n",
       "  </tbody>\n",
       "</table>\n",
       "<p>126 rows × 126 columns</p>\n",
       "</div>"
      ],
      "text/plain": [
       "            v2a1    hacdor     rooms    hacapo      v14a    refrig      r4h1  \\\n",
       "v2a1    1.000000 -0.025479  0.101634 -0.030867  0.018355  0.061534  0.017916   \n",
       "hacdor -0.025479  1.000000 -0.233369  0.652594 -0.175011 -0.101965  0.232508   \n",
       "rooms   0.101634 -0.233369  1.000000 -0.213368  0.129183  0.130531 -0.066578   \n",
       "hacapo -0.030867  0.652594 -0.213368  1.000000 -0.150986 -0.124506  0.226378   \n",
       "v14a    0.018355 -0.175011  0.129183 -0.150986  1.000000  0.143143 -0.054769   \n",
       "...          ...       ...       ...       ...       ...       ...       ...   \n",
       "lugar6 -0.071141  0.005289 -0.050428  0.024699 -0.005146 -0.075008  0.046550   \n",
       "area1   0.148049  0.027721  0.130286  0.008402 -0.007297  0.078661 -0.046722   \n",
       "area2  -0.148049 -0.027721 -0.130286 -0.008402  0.007297 -0.078661  0.046722   \n",
       "age    -0.090771 -0.118168  0.077046 -0.087773  0.027193  0.029801 -0.316990   \n",
       "Target  0.166055 -0.192052  0.229089 -0.137874  0.063321  0.130326 -0.231319   \n",
       "\n",
       "            r4h2      r4h3      r4m1  ...    lugar1    lugar2    lugar3  \\\n",
       "v2a1   -0.059021 -0.041202  0.027868  ...  0.172564 -0.032538 -0.023249   \n",
       "hacdor  0.059313  0.184857  0.268978  ... -0.042086  0.017444  0.025546   \n",
       "rooms   0.267627  0.195222 -0.032558  ...  0.223771 -0.073862 -0.130994   \n",
       "hacapo  0.126645  0.240056  0.241452  ... -0.038896  0.023858 -0.005963   \n",
       "v14a    0.018133 -0.015552 -0.006370  ...  0.027642 -0.001824  0.000709   \n",
       "...          ...       ...       ...  ...       ...       ...       ...   \n",
       "lugar6  0.034428  0.056674  0.015109  ... -0.353624 -0.094692 -0.076397   \n",
       "area1  -0.033211 -0.055712 -0.015735  ...  0.373259 -0.079163 -0.012335   \n",
       "area2   0.033211  0.055712  0.015735  ... -0.373259  0.079163  0.012335   \n",
       "age    -0.020306 -0.199225 -0.329512  ...  0.064751  0.003958 -0.020481   \n",
       "Target  0.107032 -0.039138 -0.258565  ...  0.173998 -0.017713 -0.084153   \n",
       "\n",
       "          lugar4    lugar5    lugar6     area1     area2       age    Target  \n",
       "v2a1   -0.081278 -0.096422 -0.071141  0.148049 -0.148049 -0.090771  0.166055  \n",
       "hacdor -0.010172  0.037182  0.005289  0.027721 -0.027721 -0.118168 -0.192052  \n",
       "rooms  -0.051941 -0.099481 -0.050428  0.130286 -0.130286  0.077046  0.229089  \n",
       "hacapo  0.000737  0.023113  0.024699  0.008402 -0.008402 -0.087773 -0.137874  \n",
       "v14a   -0.020328 -0.021421 -0.005146 -0.007297  0.007297  0.027193  0.063321  \n",
       "...          ...       ...       ...       ...       ...       ...       ...  \n",
       "lugar6 -0.088985 -0.095339  1.000000 -0.257708  0.257708 -0.036963 -0.045880  \n",
       "area1  -0.199467 -0.111982 -0.257708  1.000000 -1.000000  0.026770  0.088459  \n",
       "area2   0.199467  0.111982  0.257708 -1.000000  1.000000 -0.026770 -0.088459  \n",
       "age    -0.022969 -0.040033 -0.036963  0.026770 -0.026770  1.000000  0.117039  \n",
       "Target -0.075782 -0.091866 -0.045880  0.088459 -0.088459  0.117039  1.000000  \n",
       "\n",
       "[126 rows x 126 columns]"
      ]
     },
     "execution_count": 61,
     "metadata": {},
     "output_type": "execute_result"
    }
   ],
   "source": [
    "train.corr()"
   ]
  },
  {
   "cell_type": "code",
   "execution_count": 62,
   "id": "photographic-cutting",
   "metadata": {
    "execution": {
     "iopub.execute_input": "2021-06-22T21:00:09.789424Z",
     "iopub.status.busy": "2021-06-22T21:00:09.788724Z",
     "iopub.status.idle": "2021-06-22T21:00:10.232223Z",
     "shell.execute_reply": "2021-06-22T21:00:10.231379Z",
     "shell.execute_reply.started": "2021-06-22T20:45:29.575904Z"
    },
    "papermill": {
     "duration": 0.560423,
     "end_time": "2021-06-22T21:00:10.232486",
     "exception": false,
     "start_time": "2021-06-22T21:00:09.672063",
     "status": "completed"
    },
    "tags": []
   },
   "outputs": [],
   "source": [
    "tar_corr = train[train.columns[1:]].corr()['Target'][:].sort_values(ascending = False)"
   ]
  },
  {
   "cell_type": "code",
   "execution_count": 63,
   "id": "guided-object",
   "metadata": {
    "execution": {
     "iopub.execute_input": "2021-06-22T21:00:10.498974Z",
     "iopub.status.busy": "2021-06-22T21:00:10.497903Z",
     "iopub.status.idle": "2021-06-22T21:00:10.501576Z",
     "shell.execute_reply": "2021-06-22T21:00:10.500938Z",
     "shell.execute_reply.started": "2021-06-22T20:45:29.996349Z"
    },
    "papermill": {
     "duration": 0.141106,
     "end_time": "2021-06-22T21:00:10.501742",
     "exception": false,
     "start_time": "2021-06-22T21:00:10.360636",
     "status": "completed"
    },
    "tags": []
   },
   "outputs": [],
   "source": [
    "tar_corr=round(tar_corr*100,2)"
   ]
  },
  {
   "cell_type": "code",
   "execution_count": 64,
   "id": "spoken-worcester",
   "metadata": {
    "execution": {
     "iopub.execute_input": "2021-06-22T21:00:10.735927Z",
     "iopub.status.busy": "2021-06-22T21:00:10.735162Z",
     "iopub.status.idle": "2021-06-22T21:00:10.748901Z",
     "shell.execute_reply": "2021-06-22T21:00:10.749446Z",
     "shell.execute_reply.started": "2021-06-22T20:45:30.002195Z"
    },
    "papermill": {
     "duration": 0.130931,
     "end_time": "2021-06-22T21:00:10.749647",
     "exception": false,
     "start_time": "2021-06-22T21:00:10.618716",
     "status": "completed"
    },
    "tags": []
   },
   "outputs": [
    {
     "data": {
      "text/plain": [
       "Target             100.00\n",
       "meaneduc            33.63\n",
       "cielorazo           30.84\n",
       "escolari            30.81\n",
       "eviv3               29.56\n",
       "epared3             29.25\n",
       "pisomoscer          28.30\n",
       "paredblolad         26.26\n",
       "etecho3             25.83\n",
       "rooms               22.91\n",
       "instlevel8          21.65\n",
       "qmobilephone        20.33\n",
       "computer            18.41\n",
       "lugar1              17.40\n",
       "bedrooms            16.94\n",
       "v2a1                16.61\n",
       "hogar_adul          16.39\n",
       "elimbasu1           16.10\n",
       "television          15.71\n",
       "energcocinar2       15.65\n",
       "tipovivi2           14.36\n",
       "refrig              13.03\n",
       "estadocivil3        12.84\n",
       "age                 11.70\n",
       "r4h2                10.70\n",
       "mobilephone         10.37\n",
       "area1                8.85\n",
       "sanitario2           8.77\n",
       "instlevel9           8.36\n",
       "instlevel5           7.86\n",
       "abastaguadentro      7.13\n",
       "v14a                 6.33\n",
       "parentesco2          5.60\n",
       "r4t2                 5.52\n",
       "estadocivil4         5.39\n",
       "instlevel7           3.99\n",
       "male                 3.83\n",
       "parentesco1          3.72\n",
       "techootro            3.23\n",
       "techozinc            3.14\n",
       "elimbasu6            2.44\n",
       "pisoother            2.11\n",
       "techoentrepiso       1.94\n",
       "instlevel4           1.83\n",
       "parentesco12         1.76\n",
       "parentesco5          1.53\n",
       "estadocivil7         1.13\n",
       "parentesco9          1.04\n",
       "parentesco10         0.91\n",
       "public               0.87\n",
       "parentesco8          0.85\n",
       "tipovivi3            0.53\n",
       "parentesco7          0.40\n",
       "instlevel6           0.40\n",
       "coopele              0.33\n",
       "planpri              0.05\n",
       "paredother          -0.07\n",
       "estadocivil6        -0.47\n",
       "tipovivi1           -0.56\n",
       "hogar_mayor         -0.59\n",
       "Name: Target, dtype: float64"
      ]
     },
     "execution_count": 64,
     "metadata": {},
     "output_type": "execute_result"
    }
   ],
   "source": [
    "tar_corr.head(60)"
   ]
  },
  {
   "cell_type": "markdown",
   "id": "loved-tattoo",
   "metadata": {
    "papermill": {
     "duration": 0.123888,
     "end_time": "2021-06-22T21:00:10.985829",
     "exception": false,
     "start_time": "2021-06-22T21:00:10.861941",
     "status": "completed"
    },
    "tags": []
   },
   "source": [
    "We can see here how Target is correlated with some of the feature . these features will be important for prediction as well."
   ]
  },
  {
   "cell_type": "code",
   "execution_count": 65,
   "id": "administrative-ranch",
   "metadata": {
    "execution": {
     "iopub.execute_input": "2021-06-22T21:00:11.210572Z",
     "iopub.status.busy": "2021-06-22T21:00:11.209580Z",
     "iopub.status.idle": "2021-06-22T21:00:11.219670Z",
     "shell.execute_reply": "2021-06-22T21:00:11.220182Z",
     "shell.execute_reply.started": "2021-06-22T20:45:30.023519Z"
    },
    "papermill": {
     "duration": 0.121663,
     "end_time": "2021-06-22T21:00:11.220423",
     "exception": false,
     "start_time": "2021-06-22T21:00:11.098760",
     "status": "completed"
    },
    "tags": []
   },
   "outputs": [
    {
     "data": {
      "text/plain": [
       "lugar2          -1.77\n",
       "parentesco4     -1.81\n",
       "parentesco11    -1.91\n",
       "instlevel3      -2.37\n",
       "estadocivil2    -3.12\n",
       "                ...  \n",
       "r4m1           -25.86\n",
       "overcrowding   -29.00\n",
       "r4t1           -32.12\n",
       "hogar_nin      -32.82\n",
       "elimbasu5         NaN\n",
       "Name: Target, Length: 65, dtype: float64"
      ]
     },
     "execution_count": 65,
     "metadata": {},
     "output_type": "execute_result"
    }
   ],
   "source": [
    "tar_corr.tail(65)"
   ]
  },
  {
   "cell_type": "code",
   "execution_count": 66,
   "id": "still-allowance",
   "metadata": {
    "execution": {
     "iopub.execute_input": "2021-06-22T21:00:11.438419Z",
     "iopub.status.busy": "2021-06-22T21:00:11.437706Z",
     "iopub.status.idle": "2021-06-22T21:00:11.443616Z",
     "shell.execute_reply": "2021-06-22T21:00:11.444444Z",
     "shell.execute_reply.started": "2021-06-22T20:45:30.037669Z"
    },
    "papermill": {
     "duration": 0.115581,
     "end_time": "2021-06-22T21:00:11.444673",
     "exception": false,
     "start_time": "2021-06-22T21:00:11.329092",
     "status": "completed"
    },
    "tags": []
   },
   "outputs": [],
   "source": [
    "drop_columns = ['elimbasu5','instlevel7','techootro','techozinc','elimbasu6','pisoother','techoentrepiso',\n",
    "                'instlevel4','parentesco12','parentesco5','estadocivil7','parentesco9','parentesco10',\n",
    "                'public','parentesco8','tipovivi3','parentesco7','instlevel6','coopele' ,'planpri','paredother',\n",
    "                'estadocivil6','estadocivil6','hogar_mayor','lugar2','parentesco4','parentesco11','instlevel3','estadocivil2',\n",
    "                'area2', 'tamhog', 'hhsize', 'hogar_total']\n"
   ]
  },
  {
   "cell_type": "code",
   "execution_count": 67,
   "id": "functional-wagner",
   "metadata": {
    "execution": {
     "iopub.execute_input": "2021-06-22T21:00:11.678582Z",
     "iopub.status.busy": "2021-06-22T21:00:11.677847Z",
     "iopub.status.idle": "2021-06-22T21:00:11.695231Z",
     "shell.execute_reply": "2021-06-22T21:00:11.695826Z",
     "shell.execute_reply.started": "2021-06-22T20:45:30.047721Z"
    },
    "papermill": {
     "duration": 0.139306,
     "end_time": "2021-06-22T21:00:11.696169",
     "exception": false,
     "start_time": "2021-06-22T21:00:11.556863",
     "status": "completed"
    },
    "tags": []
   },
   "outputs": [],
   "source": [
    "train.drop(columns = drop_columns, inplace = True)\n",
    "test.drop(columns = drop_columns, inplace = True)"
   ]
  },
  {
   "cell_type": "code",
   "execution_count": 68,
   "id": "closed-milwaukee",
   "metadata": {
    "execution": {
     "iopub.execute_input": "2021-06-22T21:00:11.916517Z",
     "iopub.status.busy": "2021-06-22T21:00:11.915828Z",
     "iopub.status.idle": "2021-06-22T21:00:11.923944Z",
     "shell.execute_reply": "2021-06-22T21:00:11.923270Z",
     "shell.execute_reply.started": "2021-06-22T20:45:30.071606Z"
    },
    "papermill": {
     "duration": 0.117352,
     "end_time": "2021-06-22T21:00:11.924102",
     "exception": false,
     "start_time": "2021-06-22T21:00:11.806750",
     "status": "completed"
    },
    "tags": []
   },
   "outputs": [
    {
     "data": {
      "text/plain": [
       "(9557, 99)"
      ]
     },
     "execution_count": 68,
     "metadata": {},
     "output_type": "execute_result"
    }
   ],
   "source": [
    "train.shape"
   ]
  },
  {
   "cell_type": "code",
   "execution_count": 69,
   "id": "modular-crime",
   "metadata": {
    "execution": {
     "iopub.execute_input": "2021-06-22T21:00:12.158496Z",
     "iopub.status.busy": "2021-06-22T21:00:12.157744Z",
     "iopub.status.idle": "2021-06-22T21:00:12.160882Z",
     "shell.execute_reply": "2021-06-22T21:00:12.161418Z",
     "shell.execute_reply.started": "2021-06-22T20:45:30.077959Z"
    },
    "papermill": {
     "duration": 0.12386,
     "end_time": "2021-06-22T21:00:12.161622",
     "exception": false,
     "start_time": "2021-06-22T21:00:12.037762",
     "status": "completed"
    },
    "tags": []
   },
   "outputs": [
    {
     "data": {
      "text/plain": [
       "0        no\n",
       "1         8\n",
       "2         8\n",
       "3       yes\n",
       "4       yes\n",
       "       ... \n",
       "9552    .25\n",
       "9553    .25\n",
       "9554    .25\n",
       "9555    .25\n",
       "9556    .25\n",
       "Name: dependency, Length: 9557, dtype: object"
      ]
     },
     "execution_count": 69,
     "metadata": {},
     "output_type": "execute_result"
    }
   ],
   "source": [
    "train.dependency"
   ]
  },
  {
   "cell_type": "code",
   "execution_count": 70,
   "id": "protected-traveler",
   "metadata": {
    "execution": {
     "iopub.execute_input": "2021-06-22T21:00:12.391236Z",
     "iopub.status.busy": "2021-06-22T21:00:12.390455Z",
     "iopub.status.idle": "2021-06-22T21:00:12.404897Z",
     "shell.execute_reply": "2021-06-22T21:00:12.405682Z",
     "shell.execute_reply.started": "2021-06-22T20:45:30.096962Z"
    },
    "papermill": {
     "duration": 0.128094,
     "end_time": "2021-06-22T21:00:12.405906",
     "exception": false,
     "start_time": "2021-06-22T21:00:12.277812",
     "status": "completed"
    },
    "tags": []
   },
   "outputs": [],
   "source": [
    "train['dependency'].replace({'no':0, 'yes':1},inplace=True)\n",
    "test['dependency'].replace({'no':0, 'yes':1},inplace=True)"
   ]
  },
  {
   "cell_type": "code",
   "execution_count": 71,
   "id": "optional-least",
   "metadata": {
    "execution": {
     "iopub.execute_input": "2021-06-22T21:00:12.648364Z",
     "iopub.status.busy": "2021-06-22T21:00:12.647625Z",
     "iopub.status.idle": "2021-06-22T21:00:12.649793Z",
     "shell.execute_reply": "2021-06-22T21:00:12.650346Z",
     "shell.execute_reply.started": "2021-06-22T20:45:30.117120Z"
    },
    "papermill": {
     "duration": 0.132696,
     "end_time": "2021-06-22T21:00:12.650550",
     "exception": false,
     "start_time": "2021-06-22T21:00:12.517854",
     "status": "completed"
    },
    "tags": []
   },
   "outputs": [],
   "source": [
    "train['edjefe'].replace({'no': 0,'yes':1},inplace=True)\n",
    "test['edjefe'].replace({'no': 0,'yes':1},inplace=True)"
   ]
  },
  {
   "cell_type": "code",
   "execution_count": 72,
   "id": "theoretical-sterling",
   "metadata": {
    "execution": {
     "iopub.execute_input": "2021-06-22T21:00:12.879297Z",
     "iopub.status.busy": "2021-06-22T21:00:12.878566Z",
     "iopub.status.idle": "2021-06-22T21:00:12.892568Z",
     "shell.execute_reply": "2021-06-22T21:00:12.893122Z",
     "shell.execute_reply.started": "2021-06-22T20:45:30.136935Z"
    },
    "papermill": {
     "duration": 0.127981,
     "end_time": "2021-06-22T21:00:12.893354",
     "exception": false,
     "start_time": "2021-06-22T21:00:12.765373",
     "status": "completed"
    },
    "tags": []
   },
   "outputs": [],
   "source": [
    "train['edjefa'].replace({'no': 0,'yes':1},inplace=True)\n",
    "test['edjefa'].replace({'no': 0,'yes':1},inplace=True)"
   ]
  },
  {
   "cell_type": "code",
   "execution_count": 73,
   "id": "addressed-wales",
   "metadata": {
    "execution": {
     "iopub.execute_input": "2021-06-22T21:00:13.120475Z",
     "iopub.status.busy": "2021-06-22T21:00:13.119778Z",
     "iopub.status.idle": "2021-06-22T21:00:13.127999Z",
     "shell.execute_reply": "2021-06-22T21:00:13.127235Z",
     "shell.execute_reply.started": "2021-06-22T20:45:30.154223Z"
    },
    "papermill": {
     "duration": 0.124346,
     "end_time": "2021-06-22T21:00:13.128168",
     "exception": false,
     "start_time": "2021-06-22T21:00:13.003822",
     "status": "completed"
    },
    "tags": []
   },
   "outputs": [
    {
     "data": {
      "text/plain": [
       "dtype('O')"
      ]
     },
     "execution_count": 73,
     "metadata": {},
     "output_type": "execute_result"
    }
   ],
   "source": [
    "train['Id'].dtypes"
   ]
  },
  {
   "cell_type": "code",
   "execution_count": 74,
   "id": "indie-monitor",
   "metadata": {
    "execution": {
     "iopub.execute_input": "2021-06-22T21:00:13.354222Z",
     "iopub.status.busy": "2021-06-22T21:00:13.353411Z",
     "iopub.status.idle": "2021-06-22T21:00:13.367802Z",
     "shell.execute_reply": "2021-06-22T21:00:13.368301Z",
     "shell.execute_reply.started": "2021-06-22T20:46:33.025518Z"
    },
    "papermill": {
     "duration": 0.13304,
     "end_time": "2021-06-22T21:00:13.368527",
     "exception": false,
     "start_time": "2021-06-22T21:00:13.235487",
     "status": "completed"
    },
    "tags": []
   },
   "outputs": [
    {
     "name": "stdout",
     "output_type": "stream",
     "text": [
      "(9557, 97)\n",
      "(23856, 96)\n"
     ]
    }
   ],
   "source": [
    "final_drop_col = ['Id', 'idhogar']\n",
    "\n",
    "train.drop(columns=final_drop_col,inplace = True)\n",
    "print(train.shape)\n",
    "test.drop(columns= final_drop_col,inplace = True)\n",
    "print(test.shape)"
   ]
  },
  {
   "cell_type": "markdown",
   "id": "authorized-precipitation",
   "metadata": {
    "papermill": {
     "duration": 0.112138,
     "end_time": "2021-06-22T21:00:13.593149",
     "exception": false,
     "start_time": "2021-06-22T21:00:13.481011",
     "status": "completed"
    },
    "tags": []
   },
   "source": [
    "### Modelling "
   ]
  },
  {
   "cell_type": "code",
   "execution_count": 75,
   "id": "challenging-thread",
   "metadata": {
    "execution": {
     "iopub.execute_input": "2021-06-22T21:00:13.813893Z",
     "iopub.status.busy": "2021-06-22T21:00:13.813078Z",
     "iopub.status.idle": "2021-06-22T21:00:14.464157Z",
     "shell.execute_reply": "2021-06-22T21:00:14.463525Z",
     "shell.execute_reply.started": "2021-06-22T20:46:37.549669Z"
    },
    "papermill": {
     "duration": 0.762649,
     "end_time": "2021-06-22T21:00:14.464359",
     "exception": false,
     "start_time": "2021-06-22T21:00:13.701710",
     "status": "completed"
    },
    "tags": []
   },
   "outputs": [],
   "source": [
    "from sklearn.model_selection import train_test_split\n",
    "from sklearn.ensemble import RandomForestClassifier\n",
    "from sklearn import metrics"
   ]
  },
  {
   "cell_type": "code",
   "execution_count": 76,
   "id": "australian-shore",
   "metadata": {
    "execution": {
     "iopub.execute_input": "2021-06-22T21:00:14.682315Z",
     "iopub.status.busy": "2021-06-22T21:00:14.681652Z",
     "iopub.status.idle": "2021-06-22T21:00:14.695762Z",
     "shell.execute_reply": "2021-06-22T21:00:14.696329Z",
     "shell.execute_reply.started": "2021-06-22T20:46:37.559520Z"
    },
    "papermill": {
     "duration": 0.126251,
     "end_time": "2021-06-22T21:00:14.696555",
     "exception": false,
     "start_time": "2021-06-22T21:00:14.570304",
     "status": "completed"
    },
    "tags": []
   },
   "outputs": [],
   "source": [
    "X = train.iloc[:,:-1]\n",
    "y = train.Target\n",
    "\n",
    "X_train, X_test, y_train, y_test = train_test_split(X, y, test_size = 0.2, random_state=42)"
   ]
  },
  {
   "cell_type": "code",
   "execution_count": 77,
   "id": "educational-thomas",
   "metadata": {
    "execution": {
     "iopub.execute_input": "2021-06-22T21:00:14.929675Z",
     "iopub.status.busy": "2021-06-22T21:00:14.928373Z",
     "iopub.status.idle": "2021-06-22T21:00:14.935401Z",
     "shell.execute_reply": "2021-06-22T21:00:14.935941Z",
     "shell.execute_reply.started": "2021-06-22T20:46:37.584041Z"
    },
    "papermill": {
     "duration": 0.124186,
     "end_time": "2021-06-22T21:00:14.936135",
     "exception": false,
     "start_time": "2021-06-22T21:00:14.811949",
     "status": "completed"
    },
    "tags": []
   },
   "outputs": [
    {
     "data": {
      "text/plain": [
       "[(7645, 96), (7645,), (1912, 96), (1912,)]"
      ]
     },
     "execution_count": 77,
     "metadata": {},
     "output_type": "execute_result"
    }
   ],
   "source": [
    "shapes = [X_train.shape,y_train.shape, X_test.shape,y_test.shape]\n",
    "shapes"
   ]
  },
  {
   "cell_type": "code",
   "execution_count": 78,
   "id": "aquatic-mission",
   "metadata": {
    "execution": {
     "iopub.execute_input": "2021-06-22T21:00:15.161438Z",
     "iopub.status.busy": "2021-06-22T21:00:15.159105Z",
     "iopub.status.idle": "2021-06-22T21:00:15.169107Z",
     "shell.execute_reply": "2021-06-22T21:00:15.169688Z",
     "shell.execute_reply.started": "2021-06-22T20:46:37.595680Z"
    },
    "papermill": {
     "duration": 0.122763,
     "end_time": "2021-06-22T21:00:15.169892",
     "exception": false,
     "start_time": "2021-06-22T21:00:15.047129",
     "status": "completed"
    },
    "tags": []
   },
   "outputs": [
    {
     "name": "stdout",
     "output_type": "stream",
     "text": [
      "RandomForestClassifier(n_jobs=-1, oob_score=True)\n"
     ]
    }
   ],
   "source": [
    "RF_classifier = RandomForestClassifier(n_estimators=100,\n",
    "                                     oob_score = True,\n",
    "                                     n_jobs = -1,\n",
    "                                     criterion = 'gini')\n",
    "\n",
    "print(RF_classifier)"
   ]
  },
  {
   "cell_type": "code",
   "execution_count": 79,
   "id": "supported-disabled",
   "metadata": {
    "execution": {
     "iopub.execute_input": "2021-06-22T21:00:15.400929Z",
     "iopub.status.busy": "2021-06-22T21:00:15.400237Z",
     "iopub.status.idle": "2021-06-22T21:00:15.403382Z",
     "shell.execute_reply": "2021-06-22T21:00:15.403865Z",
     "shell.execute_reply.started": "2021-06-22T20:46:37.610442Z"
    },
    "papermill": {
     "duration": 0.119906,
     "end_time": "2021-06-22T21:00:15.404048",
     "exception": false,
     "start_time": "2021-06-22T21:00:15.284142",
     "status": "completed"
    },
    "tags": []
   },
   "outputs": [
    {
     "data": {
      "text/plain": [
       "{'bootstrap': True,\n",
       " 'ccp_alpha': 0.0,\n",
       " 'class_weight': None,\n",
       " 'criterion': 'gini',\n",
       " 'max_depth': None,\n",
       " 'max_features': 'auto',\n",
       " 'max_leaf_nodes': None,\n",
       " 'max_samples': None,\n",
       " 'min_impurity_decrease': 0.0,\n",
       " 'min_impurity_split': None,\n",
       " 'min_samples_leaf': 1,\n",
       " 'min_samples_split': 2,\n",
       " 'min_weight_fraction_leaf': 0.0,\n",
       " 'n_estimators': 100,\n",
       " 'n_jobs': -1,\n",
       " 'oob_score': True,\n",
       " 'random_state': None,\n",
       " 'verbose': 0,\n",
       " 'warm_start': False}"
      ]
     },
     "execution_count": 79,
     "metadata": {},
     "output_type": "execute_result"
    }
   ],
   "source": [
    "RF_classifier.get_params()"
   ]
  },
  {
   "cell_type": "code",
   "execution_count": 80,
   "id": "fixed-comment",
   "metadata": {
    "execution": {
     "iopub.execute_input": "2021-06-22T21:00:15.623099Z",
     "iopub.status.busy": "2021-06-22T21:00:15.622382Z",
     "iopub.status.idle": "2021-06-22T21:00:16.972291Z",
     "shell.execute_reply": "2021-06-22T21:00:16.971704Z",
     "shell.execute_reply.started": "2021-06-22T20:46:37.630008Z"
    },
    "papermill": {
     "duration": 1.463679,
     "end_time": "2021-06-22T21:00:16.972445",
     "exception": false,
     "start_time": "2021-06-22T21:00:15.508766",
     "status": "completed"
    },
    "tags": []
   },
   "outputs": [
    {
     "name": "stdout",
     "output_type": "stream",
     "text": [
      "Random Forest accuracy 1.0\n"
     ]
    }
   ],
   "source": [
    "RF_classifier.fit(X_train, y_train)\n",
    "y_pred_rf = RF_classifier.predict(X_test)\n",
    "\n",
    "print('Random Forest accuracy', metrics.accuracy_score(y_train,RF_classifier.predict(X_train)))\n"
   ]
  },
  {
   "cell_type": "markdown",
   "id": "lucky-invasion",
   "metadata": {
    "papermill": {
     "duration": 0.107446,
     "end_time": "2021-06-22T21:00:17.188026",
     "exception": false,
     "start_time": "2021-06-22T21:00:17.080580",
     "status": "completed"
    },
    "tags": []
   },
   "source": [
    "### Feature Importance "
   ]
  },
  {
   "cell_type": "code",
   "execution_count": 81,
   "id": "suspended-drove",
   "metadata": {
    "execution": {
     "iopub.execute_input": "2021-06-22T21:00:17.406587Z",
     "iopub.status.busy": "2021-06-22T21:00:17.405785Z",
     "iopub.status.idle": "2021-06-22T21:00:17.834240Z",
     "shell.execute_reply": "2021-06-22T21:00:17.833503Z",
     "shell.execute_reply.started": "2021-06-22T20:46:39.096054Z"
    },
    "papermill": {
     "duration": 0.540363,
     "end_time": "2021-06-22T21:00:17.834417",
     "exception": false,
     "start_time": "2021-06-22T21:00:17.294054",
     "status": "completed"
    },
    "tags": []
   },
   "outputs": [
    {
     "data": {
      "image/png": "[encoded data removed]",
      "text/plain": [
       "<Figure size 432x288 with 1 Axes>"
      ]
     },
     "metadata": {},
     "output_type": "display_data"
    }
   ],
   "source": [
    "features = pd.Series(RF_classifier.feature_importances_, index=X_train.columns)\n",
    "features.nlargest(20).plot(kind='barh')\n",
    "plt.show()"
   ]
  },
  {
   "cell_type": "markdown",
   "id": "reliable-seeker",
   "metadata": {
    "papermill": {
     "duration": 0.107566,
     "end_time": "2021-06-22T21:00:18.053720",
     "exception": false,
     "start_time": "2021-06-22T21:00:17.946154",
     "status": "completed"
    },
    "tags": []
   },
   "source": [
    "**meanedu, dependency & overcrowding seem to be important predictors for the model along with other.**"
   ]
  },
  {
   "cell_type": "code",
   "execution_count": 82,
   "id": "illegal-newark",
   "metadata": {
    "execution": {
     "iopub.execute_input": "2021-06-22T21:00:18.277286Z",
     "iopub.status.busy": "2021-06-22T21:00:18.276229Z",
     "iopub.status.idle": "2021-06-22T21:00:18.299979Z",
     "shell.execute_reply": "2021-06-22T21:00:18.299393Z",
     "shell.execute_reply.started": "2021-06-22T20:46:39.513131Z"
    },
    "papermill": {
     "duration": 0.137525,
     "end_time": "2021-06-22T21:00:18.300134",
     "exception": false,
     "start_time": "2021-06-22T21:00:18.162609",
     "status": "completed"
    },
    "tags": []
   },
   "outputs": [
    {
     "name": "stdout",
     "output_type": "stream",
     "text": [
      "              precision    recall  f1-score   support\n",
      "\n",
      "           1       0.97      0.89      0.93       169\n",
      "           2       0.96      0.88      0.92       302\n",
      "           3       1.00      0.82      0.90       257\n",
      "           4       0.93      0.99      0.96      1184\n",
      "\n",
      "    accuracy                           0.94      1912\n",
      "   macro avg       0.96      0.90      0.93      1912\n",
      "weighted avg       0.95      0.94      0.94      1912\n",
      "\n",
      "[[ 151    1    1   16]\n",
      " [   3  267    0   32]\n",
      " [   1    5  210   41]\n",
      " [   0    6    0 1178]]\n",
      "Accuracy of the model on Testing Sample Data: 0.94\n"
     ]
    }
   ],
   "source": [
    "print(metrics.classification_report(y_test, y_pred_rf))\n",
    "print(metrics.confusion_matrix(y_test, y_pred_rf))\n",
    "\n",
    "# Printing the Overall Accuracy of the model\n",
    "F1_Score=metrics.f1_score(y_test, y_pred_rf, average='weighted')\n",
    "print('Accuracy of the model on Testing Sample Data:', round(F1_Score,2))"
   ]
  },
  {
   "cell_type": "markdown",
   "id": "tracked-consensus",
   "metadata": {
    "papermill": {
     "duration": 0.109778,
     "end_time": "2021-06-22T21:00:18.518465",
     "exception": false,
     "start_time": "2021-06-22T21:00:18.408687",
     "status": "completed"
    },
    "tags": []
   },
   "source": [
    "### Q10. Check the accuracy using a random forest with cross-validation?"
   ]
  },
  {
   "cell_type": "code",
   "execution_count": 83,
   "id": "advance-taste",
   "metadata": {
    "execution": {
     "iopub.execute_input": "2021-06-22T21:00:18.742071Z",
     "iopub.status.busy": "2021-06-22T21:00:18.741454Z",
     "iopub.status.idle": "2021-06-22T21:00:26.081018Z",
     "shell.execute_reply": "2021-06-22T21:00:26.080427Z",
     "shell.execute_reply.started": "2021-06-22T20:46:39.538069Z"
    },
    "papermill": {
     "duration": 7.455218,
     "end_time": "2021-06-22T21:00:26.081171",
     "exception": false,
     "start_time": "2021-06-22T21:00:18.625953",
     "status": "completed"
    },
    "tags": []
   },
   "outputs": [
    {
     "name": "stdout",
     "output_type": "stream",
     "text": [
      "\n",
      "Accuracy values for 10-fold Cross Validation:\n",
      " [0.94246862 0.94299163 0.93877551 0.94819466 0.95395081]\n",
      "\n",
      "Final Average Accuracy of the model: 94.53\n"
     ]
    }
   ],
   "source": [
    "# Importing cross validation function from sklearn\n",
    "from sklearn.model_selection import cross_val_score, KFold\n",
    "\n",
    "kfold = KFold(n_splits=5, random_state=42, shuffle=True)\n",
    "RF_classifier_kfold = RandomForestClassifier(n_estimators=100,\n",
    "                                            n_jobs = -1, random_state=10\n",
    "                                            )\n",
    "RF_classifier_kfold.fit(X_train,y_train)\n",
    "Accuracy_Values=cross_val_score(RF_classifier_kfold, X , y, cv=kfold, scoring='accuracy')\n",
    "print('\\nAccuracy values for 10-fold Cross Validation:\\n',Accuracy_Values)\n",
    "print('\\nFinal Average Accuracy of the model:', round(Accuracy_Values.mean()*100,2))"
   ]
  },
  {
   "cell_type": "code",
   "execution_count": 84,
   "id": "parliamentary-teddy",
   "metadata": {
    "execution": {
     "iopub.execute_input": "2021-06-22T21:00:26.342694Z",
     "iopub.status.busy": "2021-06-22T21:00:26.341605Z",
     "iopub.status.idle": "2021-06-22T21:00:26.812119Z",
     "shell.execute_reply": "2021-06-22T21:00:26.811452Z",
     "shell.execute_reply.started": "2021-06-22T20:46:46.869366Z"
    },
    "papermill": {
     "duration": 0.607663,
     "end_time": "2021-06-22T21:00:26.812319",
     "exception": false,
     "start_time": "2021-06-22T21:00:26.204656",
     "status": "completed"
    },
    "tags": []
   },
   "outputs": [
    {
     "data": {
      "text/plain": [
       "array([4, 4, 4, ..., 4, 4, 4])"
      ]
     },
     "execution_count": 84,
     "metadata": {},
     "output_type": "execute_result"
    }
   ],
   "source": [
    "# # K Fold model prediction\n",
    "test_prediction_kfold = RF_classifier_kfold.predict(test)\n",
    "test_prediction_kfold"
   ]
  },
  {
   "cell_type": "code",
   "execution_count": 85,
   "id": "forbidden-value",
   "metadata": {
    "execution": {
     "iopub.execute_input": "2021-06-22T21:00:27.045887Z",
     "iopub.status.busy": "2021-06-22T21:00:27.045204Z",
     "iopub.status.idle": "2021-06-22T21:00:27.048392Z",
     "shell.execute_reply": "2021-06-22T21:00:27.048895Z",
     "shell.execute_reply.started": "2021-06-22T20:46:47.301964Z"
    },
    "papermill": {
     "duration": 0.127565,
     "end_time": "2021-06-22T21:00:27.049091",
     "exception": false,
     "start_time": "2021-06-22T21:00:26.921526",
     "status": "completed"
    },
    "tags": []
   },
   "outputs": [
    {
     "data": {
      "text/html": [
       "<div>\n",
       "<style scoped>\n",
       "    .dataframe tbody tr th:only-of-type {\n",
       "        vertical-align: middle;\n",
       "    }\n",
       "\n",
       "    .dataframe tbody tr th {\n",
       "        vertical-align: top;\n",
       "    }\n",
       "\n",
       "    .dataframe thead th {\n",
       "        text-align: right;\n",
       "    }\n",
       "</style>\n",
       "<table border=\"1\" class=\"dataframe\">\n",
       "  <thead>\n",
       "    <tr style=\"text-align: right;\">\n",
       "      <th></th>\n",
       "      <th>Actual class</th>\n",
       "      <th>Predicted class</th>\n",
       "    </tr>\n",
       "  </thead>\n",
       "  <tbody>\n",
       "    <tr>\n",
       "      <th>8503</th>\n",
       "      <td>2</td>\n",
       "      <td>2</td>\n",
       "    </tr>\n",
       "    <tr>\n",
       "      <th>7752</th>\n",
       "      <td>1</td>\n",
       "      <td>1</td>\n",
       "    </tr>\n",
       "    <tr>\n",
       "      <th>9350</th>\n",
       "      <td>1</td>\n",
       "      <td>1</td>\n",
       "    </tr>\n",
       "    <tr>\n",
       "      <th>8414</th>\n",
       "      <td>3</td>\n",
       "      <td>3</td>\n",
       "    </tr>\n",
       "    <tr>\n",
       "      <th>7671</th>\n",
       "      <td>2</td>\n",
       "      <td>2</td>\n",
       "    </tr>\n",
       "    <tr>\n",
       "      <th>4738</th>\n",
       "      <td>4</td>\n",
       "      <td>4</td>\n",
       "    </tr>\n",
       "    <tr>\n",
       "      <th>8677</th>\n",
       "      <td>4</td>\n",
       "      <td>4</td>\n",
       "    </tr>\n",
       "    <tr>\n",
       "      <th>965</th>\n",
       "      <td>4</td>\n",
       "      <td>4</td>\n",
       "    </tr>\n",
       "    <tr>\n",
       "      <th>3208</th>\n",
       "      <td>3</td>\n",
       "      <td>4</td>\n",
       "    </tr>\n",
       "    <tr>\n",
       "      <th>5285</th>\n",
       "      <td>4</td>\n",
       "      <td>4</td>\n",
       "    </tr>\n",
       "  </tbody>\n",
       "</table>\n",
       "</div>"
      ],
      "text/plain": [
       "      Actual class  Predicted class\n",
       "8503             2                2\n",
       "7752             1                1\n",
       "9350             1                1\n",
       "8414             3                3\n",
       "7671             2                2\n",
       "4738             4                4\n",
       "8677             4                4\n",
       "965              4                4\n",
       "3208             3                4\n",
       "5285             4                4"
      ]
     },
     "execution_count": 85,
     "metadata": {},
     "output_type": "execute_result"
    }
   ],
   "source": [
    "Actual_vs_Pred = pd.DataFrame({\"Actual class\" : y_test, \"Predicted class\": y_pred_rf})\n",
    "Actual_vs_Pred.head(10)"
   ]
  },
  {
   "cell_type": "code",
   "execution_count": 86,
   "id": "yellow-model",
   "metadata": {
    "execution": {
     "iopub.execute_input": "2021-06-22T21:00:27.269584Z",
     "iopub.status.busy": "2021-06-22T21:00:27.268922Z",
     "iopub.status.idle": "2021-06-22T21:00:27.516297Z",
     "shell.execute_reply": "2021-06-22T21:00:27.516766Z",
     "shell.execute_reply.started": "2021-06-22T20:58:14.897939Z"
    },
    "papermill": {
     "duration": 0.357992,
     "end_time": "2021-06-22T21:00:27.516962",
     "exception": false,
     "start_time": "2021-06-22T21:00:27.158970",
     "status": "completed"
    },
    "tags": []
   },
   "outputs": [
    {
     "data": {
      "text/plain": [
       "<AxesSubplot:xlabel='Target', ylabel='count'>"
      ]
     },
     "execution_count": 86,
     "metadata": {},
     "output_type": "execute_result"
    },
    {
     "data": {
      "image/png": "[encoded data removed]",
      "text/plain": [
       "<Figure size 432x288 with 1 Axes>"
      ]
     },
     "metadata": {},
     "output_type": "display_data"
    }
   ],
   "source": [
    "import warnings\n",
    "warnings.filterwarnings(\"ignore\")\n",
    "sub = pd.read_csv('../input/costa-rican-household-poverty-prediction/sample_submission.csv')\n",
    "sub['Target'] = np.array(test_prediction_kfold).astype(int)\n",
    "sub.to_csv('submission.csv', index = False)\n",
    "sns.countplot(sub['Target'])"
   ]
  },
  {
   "cell_type": "code",
   "execution_count": null,
   "id": "lyric-vitamin",
   "metadata": {
    "papermill": {
     "duration": 0.108959,
     "end_time": "2021-06-22T21:00:27.737367",
     "exception": false,
     "start_time": "2021-06-22T21:00:27.628408",
     "status": "completed"
    },
    "tags": []
   },
   "outputs": [],
   "source": []
  }
 ],
 "metadata": {
  "kernelspec": {
   "display_name": "Python 3",
   "language": "python",
   "name": "python3"
  },
  "language_info": {
   "codemirror_mode": {
    "name": "ipython",
    "version": 3
   },
   "file_extension": ".py",
   "mimetype": "text/x-python",
   "name": "python",
   "nbconvert_exporter": "python",
   "pygments_lexer": "ipython3",
   "version": "3.7.10"
  },
  "papermill": {
   "default_parameters": {},
   "duration": 50.319213,
   "end_time": "2021-06-22T21:00:29.705956",
   "environment_variables": {},
   "exception": null,
   "input_path": "__notebook__.ipynb",
   "output_path": "__notebook__.ipynb",
   "parameters": {},
   "start_time": "2021-06-22T20:59:39.386743",
   "version": "2.3.3"
  }
 },
 "nbformat": 4,
 "nbformat_minor": 5
}
